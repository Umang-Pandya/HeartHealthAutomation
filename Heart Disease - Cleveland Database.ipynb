{
 "cells": [
  {
   "cell_type": "code",
   "execution_count": 1428,
   "metadata": {},
   "outputs": [],
   "source": [
    "import numpy as np\n",
    "import pandas as pd\n",
    "import matplotlib.pyplot as plt\n",
    "%matplotlib inline\n",
    "import seaborn as sns\n",
    "import warnings\n",
    "warnings.filterwarnings(\"ignore\")"
   ]
  },
  {
   "cell_type": "code",
   "execution_count": 1429,
   "metadata": {},
   "outputs": [
    {
     "data": {
      "text/html": [
       "<div>\n",
       "<style scoped>\n",
       "    .dataframe tbody tr th:only-of-type {\n",
       "        vertical-align: middle;\n",
       "    }\n",
       "\n",
       "    .dataframe tbody tr th {\n",
       "        vertical-align: top;\n",
       "    }\n",
       "\n",
       "    .dataframe thead th {\n",
       "        text-align: right;\n",
       "    }\n",
       "</style>\n",
       "<table border=\"1\" class=\"dataframe\">\n",
       "  <thead>\n",
       "    <tr style=\"text-align: right;\">\n",
       "      <th></th>\n",
       "      <th>age</th>\n",
       "      <th>sex</th>\n",
       "      <th>cp</th>\n",
       "      <th>trestbps</th>\n",
       "      <th>chol</th>\n",
       "      <th>fbs</th>\n",
       "      <th>restecg</th>\n",
       "      <th>thalach</th>\n",
       "      <th>exang</th>\n",
       "      <th>oldpeak</th>\n",
       "      <th>slope</th>\n",
       "      <th>ca</th>\n",
       "      <th>thal</th>\n",
       "      <th>target</th>\n",
       "    </tr>\n",
       "  </thead>\n",
       "  <tbody>\n",
       "    <tr>\n",
       "      <th>0</th>\n",
       "      <td>29</td>\n",
       "      <td>1</td>\n",
       "      <td>1</td>\n",
       "      <td>130</td>\n",
       "      <td>204</td>\n",
       "      <td>0</td>\n",
       "      <td>0</td>\n",
       "      <td>202</td>\n",
       "      <td>0</td>\n",
       "      <td>0.0</td>\n",
       "      <td>2</td>\n",
       "      <td>0</td>\n",
       "      <td>2</td>\n",
       "      <td>1</td>\n",
       "    </tr>\n",
       "    <tr>\n",
       "      <th>1</th>\n",
       "      <td>34</td>\n",
       "      <td>1</td>\n",
       "      <td>3</td>\n",
       "      <td>118</td>\n",
       "      <td>182</td>\n",
       "      <td>0</td>\n",
       "      <td>0</td>\n",
       "      <td>174</td>\n",
       "      <td>0</td>\n",
       "      <td>0.0</td>\n",
       "      <td>2</td>\n",
       "      <td>0</td>\n",
       "      <td>2</td>\n",
       "      <td>1</td>\n",
       "    </tr>\n",
       "    <tr>\n",
       "      <th>2</th>\n",
       "      <td>34</td>\n",
       "      <td>0</td>\n",
       "      <td>1</td>\n",
       "      <td>118</td>\n",
       "      <td>210</td>\n",
       "      <td>0</td>\n",
       "      <td>1</td>\n",
       "      <td>192</td>\n",
       "      <td>0</td>\n",
       "      <td>0.7</td>\n",
       "      <td>2</td>\n",
       "      <td>0</td>\n",
       "      <td>2</td>\n",
       "      <td>1</td>\n",
       "    </tr>\n",
       "    <tr>\n",
       "      <th>3</th>\n",
       "      <td>35</td>\n",
       "      <td>1</td>\n",
       "      <td>0</td>\n",
       "      <td>126</td>\n",
       "      <td>282</td>\n",
       "      <td>0</td>\n",
       "      <td>0</td>\n",
       "      <td>156</td>\n",
       "      <td>1</td>\n",
       "      <td>0.0</td>\n",
       "      <td>2</td>\n",
       "      <td>0</td>\n",
       "      <td>3</td>\n",
       "      <td>0</td>\n",
       "    </tr>\n",
       "    <tr>\n",
       "      <th>4</th>\n",
       "      <td>35</td>\n",
       "      <td>0</td>\n",
       "      <td>0</td>\n",
       "      <td>138</td>\n",
       "      <td>183</td>\n",
       "      <td>0</td>\n",
       "      <td>1</td>\n",
       "      <td>182</td>\n",
       "      <td>0</td>\n",
       "      <td>1.4</td>\n",
       "      <td>2</td>\n",
       "      <td>0</td>\n",
       "      <td>2</td>\n",
       "      <td>1</td>\n",
       "    </tr>\n",
       "  </tbody>\n",
       "</table>\n",
       "</div>"
      ],
      "text/plain": [
       "   age  sex  cp  trestbps  chol  fbs  restecg  thalach  exang  oldpeak  slope  \\\n",
       "0   29    1   1       130   204    0        0      202      0      0.0      2   \n",
       "1   34    1   3       118   182    0        0      174      0      0.0      2   \n",
       "2   34    0   1       118   210    0        1      192      0      0.7      2   \n",
       "3   35    1   0       126   282    0        0      156      1      0.0      2   \n",
       "4   35    0   0       138   183    0        1      182      0      1.4      2   \n",
       "\n",
       "   ca  thal  target  \n",
       "0   0     2       1  \n",
       "1   0     2       1  \n",
       "2   0     2       1  \n",
       "3   0     3       0  \n",
       "4   0     2       1  "
      ]
     },
     "execution_count": 1429,
     "metadata": {},
     "output_type": "execute_result"
    }
   ],
   "source": [
    "df = pd.read_csv('/Users/umangpandya/Downloads/heart.csv')\n",
    "df.sort_values(by = 'age',inplace = True)\n",
    "df.reset_index(inplace=True)\n",
    "df.drop(columns='index',inplace=True)\n",
    "df.head()"
   ]
  },
  {
   "cell_type": "markdown",
   "metadata": {},
   "source": [
    "#### Attributes Information:\n",
    "- age\n",
    "- sex\n",
    "- chest pain type (4 values)\n",
    "- resting blood pressure\n",
    "- serum cholestoral in mg/dl\n",
    "- fasting blood sugar > 120 mg/dl\n",
    "- resting electrocardiographic results (values 0,1,2)\n",
    "- maximum heart rate achieved\n",
    "- exercise induced angina\n",
    "- oldpeak = ST depression induced by exercise relative to rest\n",
    "- the slope of the peak exercise ST segment\n",
    "- number of major vessels (0-3) colored by flourosopy\n",
    "- thal: 3 = normal; 6 = fixed defect; 7 = reversable defect\n"
   ]
  },
  {
   "cell_type": "code",
   "execution_count": 1430,
   "metadata": {},
   "outputs": [
    {
     "data": {
      "text/plain": [
       "age         0\n",
       "sex         0\n",
       "cp          0\n",
       "trestbps    0\n",
       "chol        0\n",
       "fbs         0\n",
       "restecg     0\n",
       "thalach     0\n",
       "exang       0\n",
       "oldpeak     0\n",
       "slope       0\n",
       "ca          0\n",
       "thal        0\n",
       "target      0\n",
       "dtype: int64"
      ]
     },
     "execution_count": 1430,
     "metadata": {},
     "output_type": "execute_result"
    }
   ],
   "source": [
    "df.isna().sum()"
   ]
  },
  {
   "cell_type": "code",
   "execution_count": 1431,
   "metadata": {},
   "outputs": [
    {
     "data": {
      "text/html": [
       "<div>\n",
       "<style scoped>\n",
       "    .dataframe tbody tr th:only-of-type {\n",
       "        vertical-align: middle;\n",
       "    }\n",
       "\n",
       "    .dataframe tbody tr th {\n",
       "        vertical-align: top;\n",
       "    }\n",
       "\n",
       "    .dataframe thead th {\n",
       "        text-align: right;\n",
       "    }\n",
       "</style>\n",
       "<table border=\"1\" class=\"dataframe\">\n",
       "  <thead>\n",
       "    <tr style=\"text-align: right;\">\n",
       "      <th></th>\n",
       "      <th>age</th>\n",
       "      <th>sex</th>\n",
       "      <th>cp</th>\n",
       "      <th>trestbps</th>\n",
       "      <th>chol</th>\n",
       "      <th>fbs</th>\n",
       "      <th>restecg</th>\n",
       "      <th>thalach</th>\n",
       "      <th>exang</th>\n",
       "      <th>oldpeak</th>\n",
       "      <th>slope</th>\n",
       "      <th>ca</th>\n",
       "      <th>thal</th>\n",
       "      <th>target</th>\n",
       "    </tr>\n",
       "  </thead>\n",
       "  <tbody>\n",
       "    <tr>\n",
       "      <th>count</th>\n",
       "      <td>303.000000</td>\n",
       "      <td>303.000000</td>\n",
       "      <td>303.000000</td>\n",
       "      <td>303.000000</td>\n",
       "      <td>303.000000</td>\n",
       "      <td>303.000000</td>\n",
       "      <td>303.000000</td>\n",
       "      <td>303.000000</td>\n",
       "      <td>303.000000</td>\n",
       "      <td>303.000000</td>\n",
       "      <td>303.000000</td>\n",
       "      <td>303.000000</td>\n",
       "      <td>303.000000</td>\n",
       "      <td>303.000000</td>\n",
       "    </tr>\n",
       "    <tr>\n",
       "      <th>mean</th>\n",
       "      <td>54.366337</td>\n",
       "      <td>0.683168</td>\n",
       "      <td>0.966997</td>\n",
       "      <td>131.623762</td>\n",
       "      <td>246.264026</td>\n",
       "      <td>0.148515</td>\n",
       "      <td>0.528053</td>\n",
       "      <td>149.646865</td>\n",
       "      <td>0.326733</td>\n",
       "      <td>1.039604</td>\n",
       "      <td>1.399340</td>\n",
       "      <td>0.729373</td>\n",
       "      <td>2.313531</td>\n",
       "      <td>0.544554</td>\n",
       "    </tr>\n",
       "    <tr>\n",
       "      <th>std</th>\n",
       "      <td>9.082101</td>\n",
       "      <td>0.466011</td>\n",
       "      <td>1.032052</td>\n",
       "      <td>17.538143</td>\n",
       "      <td>51.830751</td>\n",
       "      <td>0.356198</td>\n",
       "      <td>0.525860</td>\n",
       "      <td>22.905161</td>\n",
       "      <td>0.469794</td>\n",
       "      <td>1.161075</td>\n",
       "      <td>0.616226</td>\n",
       "      <td>1.022606</td>\n",
       "      <td>0.612277</td>\n",
       "      <td>0.498835</td>\n",
       "    </tr>\n",
       "    <tr>\n",
       "      <th>min</th>\n",
       "      <td>29.000000</td>\n",
       "      <td>0.000000</td>\n",
       "      <td>0.000000</td>\n",
       "      <td>94.000000</td>\n",
       "      <td>126.000000</td>\n",
       "      <td>0.000000</td>\n",
       "      <td>0.000000</td>\n",
       "      <td>71.000000</td>\n",
       "      <td>0.000000</td>\n",
       "      <td>0.000000</td>\n",
       "      <td>0.000000</td>\n",
       "      <td>0.000000</td>\n",
       "      <td>0.000000</td>\n",
       "      <td>0.000000</td>\n",
       "    </tr>\n",
       "    <tr>\n",
       "      <th>25%</th>\n",
       "      <td>47.500000</td>\n",
       "      <td>0.000000</td>\n",
       "      <td>0.000000</td>\n",
       "      <td>120.000000</td>\n",
       "      <td>211.000000</td>\n",
       "      <td>0.000000</td>\n",
       "      <td>0.000000</td>\n",
       "      <td>133.500000</td>\n",
       "      <td>0.000000</td>\n",
       "      <td>0.000000</td>\n",
       "      <td>1.000000</td>\n",
       "      <td>0.000000</td>\n",
       "      <td>2.000000</td>\n",
       "      <td>0.000000</td>\n",
       "    </tr>\n",
       "    <tr>\n",
       "      <th>50%</th>\n",
       "      <td>55.000000</td>\n",
       "      <td>1.000000</td>\n",
       "      <td>1.000000</td>\n",
       "      <td>130.000000</td>\n",
       "      <td>240.000000</td>\n",
       "      <td>0.000000</td>\n",
       "      <td>1.000000</td>\n",
       "      <td>153.000000</td>\n",
       "      <td>0.000000</td>\n",
       "      <td>0.800000</td>\n",
       "      <td>1.000000</td>\n",
       "      <td>0.000000</td>\n",
       "      <td>2.000000</td>\n",
       "      <td>1.000000</td>\n",
       "    </tr>\n",
       "    <tr>\n",
       "      <th>75%</th>\n",
       "      <td>61.000000</td>\n",
       "      <td>1.000000</td>\n",
       "      <td>2.000000</td>\n",
       "      <td>140.000000</td>\n",
       "      <td>274.500000</td>\n",
       "      <td>0.000000</td>\n",
       "      <td>1.000000</td>\n",
       "      <td>166.000000</td>\n",
       "      <td>1.000000</td>\n",
       "      <td>1.600000</td>\n",
       "      <td>2.000000</td>\n",
       "      <td>1.000000</td>\n",
       "      <td>3.000000</td>\n",
       "      <td>1.000000</td>\n",
       "    </tr>\n",
       "    <tr>\n",
       "      <th>max</th>\n",
       "      <td>77.000000</td>\n",
       "      <td>1.000000</td>\n",
       "      <td>3.000000</td>\n",
       "      <td>200.000000</td>\n",
       "      <td>564.000000</td>\n",
       "      <td>1.000000</td>\n",
       "      <td>2.000000</td>\n",
       "      <td>202.000000</td>\n",
       "      <td>1.000000</td>\n",
       "      <td>6.200000</td>\n",
       "      <td>2.000000</td>\n",
       "      <td>4.000000</td>\n",
       "      <td>3.000000</td>\n",
       "      <td>1.000000</td>\n",
       "    </tr>\n",
       "  </tbody>\n",
       "</table>\n",
       "</div>"
      ],
      "text/plain": [
       "              age         sex          cp    trestbps        chol         fbs  \\\n",
       "count  303.000000  303.000000  303.000000  303.000000  303.000000  303.000000   \n",
       "mean    54.366337    0.683168    0.966997  131.623762  246.264026    0.148515   \n",
       "std      9.082101    0.466011    1.032052   17.538143   51.830751    0.356198   \n",
       "min     29.000000    0.000000    0.000000   94.000000  126.000000    0.000000   \n",
       "25%     47.500000    0.000000    0.000000  120.000000  211.000000    0.000000   \n",
       "50%     55.000000    1.000000    1.000000  130.000000  240.000000    0.000000   \n",
       "75%     61.000000    1.000000    2.000000  140.000000  274.500000    0.000000   \n",
       "max     77.000000    1.000000    3.000000  200.000000  564.000000    1.000000   \n",
       "\n",
       "          restecg     thalach       exang     oldpeak       slope          ca  \\\n",
       "count  303.000000  303.000000  303.000000  303.000000  303.000000  303.000000   \n",
       "mean     0.528053  149.646865    0.326733    1.039604    1.399340    0.729373   \n",
       "std      0.525860   22.905161    0.469794    1.161075    0.616226    1.022606   \n",
       "min      0.000000   71.000000    0.000000    0.000000    0.000000    0.000000   \n",
       "25%      0.000000  133.500000    0.000000    0.000000    1.000000    0.000000   \n",
       "50%      1.000000  153.000000    0.000000    0.800000    1.000000    0.000000   \n",
       "75%      1.000000  166.000000    1.000000    1.600000    2.000000    1.000000   \n",
       "max      2.000000  202.000000    1.000000    6.200000    2.000000    4.000000   \n",
       "\n",
       "             thal      target  \n",
       "count  303.000000  303.000000  \n",
       "mean     2.313531    0.544554  \n",
       "std      0.612277    0.498835  \n",
       "min      0.000000    0.000000  \n",
       "25%      2.000000    0.000000  \n",
       "50%      2.000000    1.000000  \n",
       "75%      3.000000    1.000000  \n",
       "max      3.000000    1.000000  "
      ]
     },
     "execution_count": 1431,
     "metadata": {},
     "output_type": "execute_result"
    }
   ],
   "source": [
    "df.describe()"
   ]
  },
  {
   "cell_type": "code",
   "execution_count": 1432,
   "metadata": {},
   "outputs": [
    {
     "data": {
      "text/html": [
       "<div>\n",
       "<style scoped>\n",
       "    .dataframe tbody tr th:only-of-type {\n",
       "        vertical-align: middle;\n",
       "    }\n",
       "\n",
       "    .dataframe tbody tr th {\n",
       "        vertical-align: top;\n",
       "    }\n",
       "\n",
       "    .dataframe thead th {\n",
       "        text-align: right;\n",
       "    }\n",
       "</style>\n",
       "<table border=\"1\" class=\"dataframe\">\n",
       "  <thead>\n",
       "    <tr style=\"text-align: right;\">\n",
       "      <th></th>\n",
       "      <th>age</th>\n",
       "      <th>sex</th>\n",
       "      <th>cp</th>\n",
       "      <th>trestbps</th>\n",
       "      <th>chol</th>\n",
       "      <th>fbs</th>\n",
       "      <th>restecg</th>\n",
       "      <th>thalach</th>\n",
       "      <th>exang</th>\n",
       "      <th>oldpeak</th>\n",
       "      <th>slope</th>\n",
       "      <th>ca</th>\n",
       "      <th>thal</th>\n",
       "      <th>target</th>\n",
       "    </tr>\n",
       "  </thead>\n",
       "  <tbody>\n",
       "    <tr>\n",
       "      <th>0</th>\n",
       "      <td>0.092</td>\n",
       "      <td>1</td>\n",
       "      <td>1</td>\n",
       "      <td>0.411</td>\n",
       "      <td>0.645</td>\n",
       "      <td>0</td>\n",
       "      <td>0</td>\n",
       "      <td>0.638</td>\n",
       "      <td>0</td>\n",
       "      <td>0.0</td>\n",
       "      <td>2</td>\n",
       "      <td>0</td>\n",
       "      <td>2</td>\n",
       "      <td>1</td>\n",
       "    </tr>\n",
       "    <tr>\n",
       "      <th>1</th>\n",
       "      <td>0.121</td>\n",
       "      <td>1</td>\n",
       "      <td>3</td>\n",
       "      <td>0.421</td>\n",
       "      <td>0.650</td>\n",
       "      <td>0</td>\n",
       "      <td>0</td>\n",
       "      <td>0.621</td>\n",
       "      <td>0</td>\n",
       "      <td>0.0</td>\n",
       "      <td>2</td>\n",
       "      <td>0</td>\n",
       "      <td>2</td>\n",
       "      <td>1</td>\n",
       "    </tr>\n",
       "    <tr>\n",
       "      <th>2</th>\n",
       "      <td>0.110</td>\n",
       "      <td>0</td>\n",
       "      <td>1</td>\n",
       "      <td>0.381</td>\n",
       "      <td>0.678</td>\n",
       "      <td>0</td>\n",
       "      <td>1</td>\n",
       "      <td>0.620</td>\n",
       "      <td>0</td>\n",
       "      <td>0.7</td>\n",
       "      <td>2</td>\n",
       "      <td>0</td>\n",
       "      <td>2</td>\n",
       "      <td>1</td>\n",
       "    </tr>\n",
       "    <tr>\n",
       "      <th>3</th>\n",
       "      <td>0.101</td>\n",
       "      <td>1</td>\n",
       "      <td>0</td>\n",
       "      <td>0.362</td>\n",
       "      <td>0.811</td>\n",
       "      <td>0</td>\n",
       "      <td>0</td>\n",
       "      <td>0.449</td>\n",
       "      <td>1</td>\n",
       "      <td>0.0</td>\n",
       "      <td>2</td>\n",
       "      <td>0</td>\n",
       "      <td>3</td>\n",
       "      <td>0</td>\n",
       "    </tr>\n",
       "    <tr>\n",
       "      <th>4</th>\n",
       "      <td>0.119</td>\n",
       "      <td>0</td>\n",
       "      <td>0</td>\n",
       "      <td>0.468</td>\n",
       "      <td>0.621</td>\n",
       "      <td>0</td>\n",
       "      <td>1</td>\n",
       "      <td>0.617</td>\n",
       "      <td>0</td>\n",
       "      <td>1.4</td>\n",
       "      <td>2</td>\n",
       "      <td>0</td>\n",
       "      <td>2</td>\n",
       "      <td>1</td>\n",
       "    </tr>\n",
       "  </tbody>\n",
       "</table>\n",
       "</div>"
      ],
      "text/plain": [
       "     age  sex  cp  trestbps   chol  fbs  restecg  thalach  exang  oldpeak  \\\n",
       "0  0.092    1   1     0.411  0.645    0        0    0.638      0      0.0   \n",
       "1  0.121    1   3     0.421  0.650    0        0    0.621      0      0.0   \n",
       "2  0.110    0   1     0.381  0.678    0        1    0.620      0      0.7   \n",
       "3  0.101    1   0     0.362  0.811    0        0    0.449      1      0.0   \n",
       "4  0.119    0   0     0.468  0.621    0        1    0.617      0      1.4   \n",
       "\n",
       "   slope  ca  thal  target  \n",
       "0      2   0     2       1  \n",
       "1      2   0     2       1  \n",
       "2      2   0     2       1  \n",
       "3      2   0     3       0  \n",
       "4      2   0     2       1  "
      ]
     },
     "execution_count": 1432,
     "metadata": {},
     "output_type": "execute_result"
    }
   ],
   "source": [
    "transpose = df.iloc[:,[0,3,4,7]] \n",
    "from sklearn.preprocessing import Normalizer\n",
    "nm = Normalizer()\n",
    "transpose = nm.fit_transform(transpose)\n",
    "transpose = pd.DataFrame(transpose)\n",
    "transpose.rename(columns = {0:'age',1:'trestbps',2:'chol',3:'thalach'},inplace=True)\n",
    "ndf = df.iloc[:,:]\n",
    "ndf['age']=transpose['age'].round(3)\n",
    "ndf['trestbps'] = transpose['trestbps'].round(3)\n",
    "ndf['chol'] = transpose['chol'].round(3)\n",
    "ndf['thalach'] = transpose ['thalach'].round(3)\n",
    "ndf.head()"
   ]
  },
  {
   "cell_type": "code",
   "execution_count": 1433,
   "metadata": {},
   "outputs": [
    {
     "data": {
      "text/html": [
       "<div>\n",
       "<style scoped>\n",
       "    .dataframe tbody tr th:only-of-type {\n",
       "        vertical-align: middle;\n",
       "    }\n",
       "\n",
       "    .dataframe tbody tr th {\n",
       "        vertical-align: top;\n",
       "    }\n",
       "\n",
       "    .dataframe thead th {\n",
       "        text-align: right;\n",
       "    }\n",
       "</style>\n",
       "<table border=\"1\" class=\"dataframe\">\n",
       "  <thead>\n",
       "    <tr style=\"text-align: right;\">\n",
       "      <th></th>\n",
       "      <th>age</th>\n",
       "      <th>sex</th>\n",
       "      <th>cp</th>\n",
       "      <th>trestbps</th>\n",
       "      <th>chol</th>\n",
       "      <th>fbs</th>\n",
       "      <th>restecg</th>\n",
       "      <th>thalach</th>\n",
       "      <th>exang</th>\n",
       "      <th>oldpeak</th>\n",
       "      <th>slope</th>\n",
       "      <th>ca</th>\n",
       "      <th>thal</th>\n",
       "      <th>target</th>\n",
       "    </tr>\n",
       "  </thead>\n",
       "  <tbody>\n",
       "    <tr>\n",
       "      <th>0</th>\n",
       "      <td>29</td>\n",
       "      <td>1</td>\n",
       "      <td>1</td>\n",
       "      <td>130</td>\n",
       "      <td>204</td>\n",
       "      <td>0</td>\n",
       "      <td>0</td>\n",
       "      <td>202</td>\n",
       "      <td>0</td>\n",
       "      <td>0.0</td>\n",
       "      <td>2</td>\n",
       "      <td>0</td>\n",
       "      <td>2</td>\n",
       "      <td>1</td>\n",
       "    </tr>\n",
       "    <tr>\n",
       "      <th>1</th>\n",
       "      <td>34</td>\n",
       "      <td>1</td>\n",
       "      <td>3</td>\n",
       "      <td>118</td>\n",
       "      <td>182</td>\n",
       "      <td>0</td>\n",
       "      <td>0</td>\n",
       "      <td>174</td>\n",
       "      <td>0</td>\n",
       "      <td>0.0</td>\n",
       "      <td>2</td>\n",
       "      <td>0</td>\n",
       "      <td>2</td>\n",
       "      <td>1</td>\n",
       "    </tr>\n",
       "    <tr>\n",
       "      <th>2</th>\n",
       "      <td>34</td>\n",
       "      <td>0</td>\n",
       "      <td>1</td>\n",
       "      <td>118</td>\n",
       "      <td>210</td>\n",
       "      <td>0</td>\n",
       "      <td>1</td>\n",
       "      <td>192</td>\n",
       "      <td>0</td>\n",
       "      <td>0.7</td>\n",
       "      <td>2</td>\n",
       "      <td>0</td>\n",
       "      <td>2</td>\n",
       "      <td>1</td>\n",
       "    </tr>\n",
       "    <tr>\n",
       "      <th>3</th>\n",
       "      <td>35</td>\n",
       "      <td>1</td>\n",
       "      <td>0</td>\n",
       "      <td>126</td>\n",
       "      <td>282</td>\n",
       "      <td>0</td>\n",
       "      <td>0</td>\n",
       "      <td>156</td>\n",
       "      <td>1</td>\n",
       "      <td>0.0</td>\n",
       "      <td>2</td>\n",
       "      <td>0</td>\n",
       "      <td>3</td>\n",
       "      <td>0</td>\n",
       "    </tr>\n",
       "    <tr>\n",
       "      <th>4</th>\n",
       "      <td>35</td>\n",
       "      <td>0</td>\n",
       "      <td>0</td>\n",
       "      <td>138</td>\n",
       "      <td>183</td>\n",
       "      <td>0</td>\n",
       "      <td>1</td>\n",
       "      <td>182</td>\n",
       "      <td>0</td>\n",
       "      <td>1.4</td>\n",
       "      <td>2</td>\n",
       "      <td>0</td>\n",
       "      <td>2</td>\n",
       "      <td>1</td>\n",
       "    </tr>\n",
       "  </tbody>\n",
       "</table>\n",
       "</div>"
      ],
      "text/plain": [
       "   age  sex  cp  trestbps  chol  fbs  restecg  thalach  exang  oldpeak  slope  \\\n",
       "0   29    1   1       130   204    0        0      202      0      0.0      2   \n",
       "1   34    1   3       118   182    0        0      174      0      0.0      2   \n",
       "2   34    0   1       118   210    0        1      192      0      0.7      2   \n",
       "3   35    1   0       126   282    0        0      156      1      0.0      2   \n",
       "4   35    0   0       138   183    0        1      182      0      1.4      2   \n",
       "\n",
       "   ca  thal  target  \n",
       "0   0     2       1  \n",
       "1   0     2       1  \n",
       "2   0     2       1  \n",
       "3   0     3       0  \n",
       "4   0     2       1  "
      ]
     },
     "execution_count": 1433,
     "metadata": {},
     "output_type": "execute_result"
    }
   ],
   "source": [
    "df = pd.read_csv('/Users/umangpandya/Downloads/heart.csv')\n",
    "df.sort_values(by = 'age',inplace = True)\n",
    "df.reset_index(inplace=True)\n",
    "df.drop(columns='index',inplace=True)\n",
    "df.head()"
   ]
  },
  {
   "cell_type": "code",
   "execution_count": 1434,
   "metadata": {},
   "outputs": [
    {
     "data": {
      "text/plain": [
       "<matplotlib.axes._subplots.AxesSubplot at 0x1a2b09ad30>"
      ]
     },
     "execution_count": 1434,
     "metadata": {},
     "output_type": "execute_result"
    },
    {
     "data": {
      "image/png": "[encoded data removed]",
      "text/plain": [
       "<Figure size 432x288 with 1 Axes>"
      ]
     },
     "metadata": {
      "needs_background": "light"
     },
     "output_type": "display_data"
    }
   ],
   "source": [
    "df[['age','thalach','trestbps','chol']].plot(kind='box',grid = False,layout=None)"
   ]
  },
  {
   "cell_type": "code",
   "execution_count": 1435,
   "metadata": {},
   "outputs": [
    {
     "data": {
      "text/plain": [
       "<matplotlib.axes._subplots.AxesSubplot at 0x1a2b37b6a0>"
      ]
     },
     "execution_count": 1435,
     "metadata": {},
     "output_type": "execute_result"
    },
    {
     "data": {
      "image/png": "[encoded data removed]",
      "text/plain": [
       "<Figure size 432x288 with 1 Axes>"
      ]
     },
     "metadata": {
      "needs_background": "light"
     },
     "output_type": "display_data"
    }
   ],
   "source": [
    "ndf[['age','thalach','trestbps','chol']].plot(kind='box',grid = False,layout=None)"
   ]
  },
  {
   "cell_type": "code",
   "execution_count": 1436,
   "metadata": {},
   "outputs": [
    {
     "data": {
      "text/plain": [
       "<matplotlib.axes._subplots.AxesSubplot at 0x1a2b4ce080>"
      ]
     },
     "execution_count": 1436,
     "metadata": {},
     "output_type": "execute_result"
    },
    {
     "data": {
      "image/png": "[encoded data removed]",
      "text/plain": [
       "<Figure size 432x288 with 2 Axes>"
      ]
     },
     "metadata": {
      "needs_background": "light"
     },
     "output_type": "display_data"
    }
   ],
   "source": [
    "sns.heatmap(df[['age','thalach','trestbps','chol']].corr(),annot = True)"
   ]
  },
  {
   "cell_type": "code",
   "execution_count": 1437,
   "metadata": {},
   "outputs": [
    {
     "data": {
      "text/plain": [
       "<matplotlib.axes._subplots.AxesSubplot at 0x1a2b51ec88>"
      ]
     },
     "execution_count": 1437,
     "metadata": {},
     "output_type": "execute_result"
    },
    {
     "data": {
      "image/png": "[encoded data removed]",
      "text/plain": [
       "<Figure size 432x288 with 2 Axes>"
      ]
     },
     "metadata": {
      "needs_background": "light"
     },
     "output_type": "display_data"
    }
   ],
   "source": [
    "sns.heatmap(ndf[['age','thalach','trestbps','chol']].corr(),annot = True)"
   ]
  },
  {
   "cell_type": "code",
   "execution_count": 1438,
   "metadata": {},
   "outputs": [
    {
     "data": {
      "text/plain": [
       "<matplotlib.legend.Legend at 0x1a2b7a5c88>"
      ]
     },
     "execution_count": 1438,
     "metadata": {},
     "output_type": "execute_result"
    },
    {
     "data": {
      "image/png": "[encoded data removed]",
      "text/plain": [
       "<Figure size 432x288 with 1 Axes>"
      ]
     },
     "metadata": {
      "needs_background": "light"
     },
     "output_type": "display_data"
    }
   ],
   "source": [
    "sns.scatterplot(x = 'chol', y = 'trestbps', data = df, color = 'r',legend = 'full')\n",
    "sns.scatterplot(x = 'age', y = 'chol', data = df,color = 'g',legend = 'full')\n",
    "sns.scatterplot(x = 'age', y = 'trestbps', data = df,color = 'b',legend = 'full')\n",
    "plt.xlabel('Various Independent')\n",
    "plt.ylabel('Various Dependent')\n",
    "plt.title('Mix Scatter')\n",
    "plt.legend('labels',)"
   ]
  },
  {
   "cell_type": "code",
   "execution_count": 1439,
   "metadata": {},
   "outputs": [
    {
     "data": {
      "text/plain": [
       "<matplotlib.legend.Legend at 0x1a2b89f128>"
      ]
     },
     "execution_count": 1439,
     "metadata": {},
     "output_type": "execute_result"
    },
    {
     "data": {
      "image/png": "[encoded data removed]",
      "text/plain": [
       "<Figure size 432x288 with 1 Axes>"
      ]
     },
     "metadata": {
      "needs_background": "light"
     },
     "output_type": "display_data"
    }
   ],
   "source": [
    "sns.scatterplot(x = 'chol', y = 'trestbps', data = ndf, color = 'r',legend = 'full')\n",
    "sns.scatterplot(x = 'age', y = 'chol', data = ndf,color = 'g',legend = 'full')\n",
    "sns.scatterplot(x = 'age', y = 'trestbps', data = ndf,color = 'b',legend = 'full')\n",
    "plt.xlabel('Various Independent')\n",
    "plt.ylabel('Various Dependent')\n",
    "plt.title('Mix Scatter')\n",
    "plt.legend('labels',)"
   ]
  },
  {
   "cell_type": "code",
   "execution_count": 1440,
   "metadata": {},
   "outputs": [
    {
     "data": {
      "text/plain": [
       "Text(0.5, 1.0, 'Mix Distributions')"
      ]
     },
     "execution_count": 1440,
     "metadata": {},
     "output_type": "execute_result"
    },
    {
     "data": {
      "image/png": "[encoded data removed]",
      "text/plain": [
       "<Figure size 432x288 with 1 Axes>"
      ]
     },
     "metadata": {
      "needs_background": "light"
     },
     "output_type": "display_data"
    }
   ],
   "source": [
    "df['chol'].plot(kind = 'hist',bins = 30, legend = True)\n",
    "df['trestbps'].plot(kind = 'hist',bins = 30,legend = True)\n",
    "df['thalach'].plot(kind = 'hist',bins = 30,legend = True)\n",
    "df['age'].plot(kind = 'hist',bins = 30,legend = True)\n",
    "plt.xlabel('Cholesterol, Resting BP, Max HR, Age')\n",
    "plt.title('Mix Distributions')"
   ]
  },
  {
   "cell_type": "code",
   "execution_count": 1441,
   "metadata": {},
   "outputs": [
    {
     "data": {
      "text/plain": [
       "Text(0.5, 1.0, 'Mix Distributions')"
      ]
     },
     "execution_count": 1441,
     "metadata": {},
     "output_type": "execute_result"
    },
    {
     "data": {
      "image/png": "[encoded data removed]",
      "text/plain": [
       "<Figure size 432x288 with 1 Axes>"
      ]
     },
     "metadata": {
      "needs_background": "light"
     },
     "output_type": "display_data"
    }
   ],
   "source": [
    "ndf['chol'].plot(kind = 'hist',bins = 30, legend = True)\n",
    "ndf['trestbps'].plot(kind = 'hist',bins = 30,legend = True)\n",
    "ndf['thalach'].plot(kind = 'hist',bins = 30,legend = True)\n",
    "ndf['age'].plot(kind = 'hist',bins = 30,legend = True)\n",
    "plt.xlabel('Cholesterol, Resting BP, Max HR, Age')\n",
    "plt.title('Mix Distributions')"
   ]
  },
  {
   "cell_type": "code",
   "execution_count": 1442,
   "metadata": {},
   "outputs": [
    {
     "data": {
      "text/plain": [
       "<matplotlib.axes._subplots.AxesSubplot at 0x1a2b8512b0>"
      ]
     },
     "execution_count": 1442,
     "metadata": {},
     "output_type": "execute_result"
    },
    {
     "data": {
      "image/png": "[encoded data removed]",
      "text/plain": [
       "<Figure size 432x288 with 1 Axes>"
      ]
     },
     "metadata": {
      "needs_background": "light"
     },
     "output_type": "display_data"
    }
   ],
   "source": [
    "df[['age','thalach','trestbps','chol']].plot(legend = True)"
   ]
  },
  {
   "cell_type": "code",
   "execution_count": 1443,
   "metadata": {},
   "outputs": [
    {
     "data": {
      "text/plain": [
       "<matplotlib.axes._subplots.AxesSubplot at 0x1a2be7be48>"
      ]
     },
     "execution_count": 1443,
     "metadata": {},
     "output_type": "execute_result"
    },
    {
     "data": {
      "image/png": "[encoded data removed]",
      "text/plain": [
       "<Figure size 432x288 with 1 Axes>"
      ]
     },
     "metadata": {
      "needs_background": "light"
     },
     "output_type": "display_data"
    }
   ],
   "source": [
    "ndf[['age','thalach','trestbps','chol']].plot(legend = True)"
   ]
  },
  {
   "cell_type": "markdown",
   "metadata": {},
   "source": [
    "### Clustering the data"
   ]
  },
  {
   "cell_type": "code",
   "execution_count": 1444,
   "metadata": {},
   "outputs": [],
   "source": [
    "xk = ndf.iloc[:,[0,3,4,7]].values"
   ]
  },
  {
   "cell_type": "code",
   "execution_count": 1445,
   "metadata": {},
   "outputs": [
    {
     "data": {
      "text/plain": [
       "array([1, 1, 1, 0, 3, 4, 1, 1, 1, 3, 3, 1, 1, 0, 0, 1, 3, 4, 1, 0, 0, 1,\n",
       "       1, 3, 4, 0, 1, 1, 1, 1, 2, 1, 1, 0, 1, 3, 2, 4, 2, 0, 0, 1, 1, 0,\n",
       "       1, 0, 1, 1, 1, 1, 1, 3, 3, 0, 0, 1, 4, 1, 3, 1, 0, 0, 2, 1, 3, 1,\n",
       "       4, 1, 2, 0, 4, 0, 2, 1, 0, 1, 1, 1, 0, 0, 1, 0, 1, 0, 0, 0, 1, 3,\n",
       "       0, 0, 1, 1, 4, 4, 1, 2, 0, 2, 0, 1, 0, 0, 2, 4, 1, 0, 4, 1, 0, 3,\n",
       "       3, 1, 3, 0, 1, 0, 1, 1, 1, 0, 0, 3, 1, 4, 2, 1, 4, 3, 4, 3, 0, 1,\n",
       "       0, 0, 0, 1, 1, 0, 2, 0, 4, 4, 2, 0, 0, 0, 2, 2, 0, 4, 4, 4, 0, 1,\n",
       "       2, 2, 4, 1, 1, 1, 0, 4, 0, 4, 2, 3, 4, 4, 3, 1, 2, 2, 2, 0, 1, 3,\n",
       "       0, 3, 4, 2, 4, 4, 0, 2, 2, 0, 4, 3, 0, 4, 1, 0, 4, 0, 2, 1, 0, 0,\n",
       "       0, 1, 4, 4, 3, 4, 4, 4, 1, 3, 0, 1, 4, 3, 2, 1, 1, 0, 0, 0, 4, 4,\n",
       "       0, 4, 0, 3, 4, 0, 4, 3, 4, 2, 0, 3, 3, 4, 0, 2, 2, 2, 1, 4, 4, 2,\n",
       "       2, 4, 0, 3, 4, 2, 1, 0, 3, 2, 4, 2, 2, 2, 4, 2, 2, 4, 2, 1, 4, 3,\n",
       "       0, 4, 2, 2, 0, 4, 4, 0, 4, 0, 4, 4, 3, 3, 2, 2, 2, 0, 0, 4, 4, 2,\n",
       "       4, 4, 0, 3, 4, 4, 4, 4, 3, 2, 4, 4, 0, 3, 2, 4, 0], dtype=int32)"
      ]
     },
     "execution_count": 1445,
     "metadata": {},
     "output_type": "execute_result"
    },
    {
     "data": {
      "image/png": "[encoded data removed]",
      "text/plain": [
       "<Figure size 432x288 with 1 Axes>"
      ]
     },
     "metadata": {
      "needs_background": "light"
     },
     "output_type": "display_data"
    }
   ],
   "source": [
    "from sklearn.cluster import KMeans\n",
    "wcss = []\n",
    "for i in range (1,11):\n",
    "    kmeans = KMeans(n_clusters = i, init = 'k-means++')\n",
    "    kmeans.fit(xk)\n",
    "    wcss.append(kmeans.inertia_)\n",
    "#check by plotting\n",
    "plt.plot(range(1,11),wcss)\n",
    "kmeans = KMeans(n_clusters = 5, init = 'k-means++')\n",
    "y_kmeans = kmeans.fit_predict(xk)\n",
    "y_kmeans"
   ]
  },
  {
   "cell_type": "code",
   "execution_count": 1446,
   "metadata": {},
   "outputs": [
    {
     "data": {
      "text/plain": [
       "<matplotlib.collections.PathCollection at 0x1a2c255518>"
      ]
     },
     "execution_count": 1446,
     "metadata": {},
     "output_type": "execute_result"
    },
    {
     "data": {
      "image/png": "[encoded data removed]",
      "text/plain": [
       "<Figure size 432x288 with 1 Axes>"
      ]
     },
     "metadata": {
      "needs_background": "light"
     },
     "output_type": "display_data"
    }
   ],
   "source": [
    "plt.scatter(xk[y_kmeans==0,0],xk[y_kmeans==0,1], s=100,  c='red', label = 'Cluster1')\n",
    "plt.scatter(xk[y_kmeans==1,0],xk[y_kmeans==1,1], s=100,  c='blue', label = 'Cluster2')\n",
    "plt.scatter(xk[y_kmeans==2,0],xk[y_kmeans==2,1], s=100,  c='yellow', label = 'Cluster3')\n",
    "plt.scatter(xk[y_kmeans==3,0],xk[y_kmeans==3,1], s=100,  c='green', label = 'Cluster4')\n",
    "plt.scatter(xk[y_kmeans==4,0],xk[y_kmeans==4,1], s=100,  c='purple', label = 'Cluster5')"
   ]
  },
  {
   "cell_type": "code",
   "execution_count": 1447,
   "metadata": {},
   "outputs": [
    {
     "data": {
      "text/html": [
       "<div>\n",
       "<style scoped>\n",
       "    .dataframe tbody tr th:only-of-type {\n",
       "        vertical-align: middle;\n",
       "    }\n",
       "\n",
       "    .dataframe tbody tr th {\n",
       "        vertical-align: top;\n",
       "    }\n",
       "\n",
       "    .dataframe thead th {\n",
       "        text-align: right;\n",
       "    }\n",
       "</style>\n",
       "<table border=\"1\" class=\"dataframe\">\n",
       "  <thead>\n",
       "    <tr style=\"text-align: right;\">\n",
       "      <th></th>\n",
       "      <th>cluster</th>\n",
       "      <th>age</th>\n",
       "      <th>sex</th>\n",
       "      <th>cp</th>\n",
       "      <th>trestbps</th>\n",
       "      <th>chol</th>\n",
       "      <th>fbs</th>\n",
       "      <th>restecg</th>\n",
       "      <th>thalach</th>\n",
       "      <th>exang</th>\n",
       "      <th>oldpeak</th>\n",
       "      <th>slope</th>\n",
       "      <th>ca</th>\n",
       "      <th>thal</th>\n",
       "      <th>target</th>\n",
       "    </tr>\n",
       "  </thead>\n",
       "  <tbody>\n",
       "    <tr>\n",
       "      <th>0</th>\n",
       "      <td>1</td>\n",
       "      <td>0.092</td>\n",
       "      <td>1</td>\n",
       "      <td>1</td>\n",
       "      <td>0.411</td>\n",
       "      <td>0.645</td>\n",
       "      <td>0</td>\n",
       "      <td>0</td>\n",
       "      <td>0.638</td>\n",
       "      <td>0</td>\n",
       "      <td>0.0</td>\n",
       "      <td>2</td>\n",
       "      <td>0</td>\n",
       "      <td>2</td>\n",
       "      <td>1</td>\n",
       "    </tr>\n",
       "    <tr>\n",
       "      <th>1</th>\n",
       "      <td>1</td>\n",
       "      <td>0.121</td>\n",
       "      <td>1</td>\n",
       "      <td>3</td>\n",
       "      <td>0.421</td>\n",
       "      <td>0.650</td>\n",
       "      <td>0</td>\n",
       "      <td>0</td>\n",
       "      <td>0.621</td>\n",
       "      <td>0</td>\n",
       "      <td>0.0</td>\n",
       "      <td>2</td>\n",
       "      <td>0</td>\n",
       "      <td>2</td>\n",
       "      <td>1</td>\n",
       "    </tr>\n",
       "    <tr>\n",
       "      <th>2</th>\n",
       "      <td>1</td>\n",
       "      <td>0.110</td>\n",
       "      <td>0</td>\n",
       "      <td>1</td>\n",
       "      <td>0.381</td>\n",
       "      <td>0.678</td>\n",
       "      <td>0</td>\n",
       "      <td>1</td>\n",
       "      <td>0.620</td>\n",
       "      <td>0</td>\n",
       "      <td>0.7</td>\n",
       "      <td>2</td>\n",
       "      <td>0</td>\n",
       "      <td>2</td>\n",
       "      <td>1</td>\n",
       "    </tr>\n",
       "    <tr>\n",
       "      <th>3</th>\n",
       "      <td>0</td>\n",
       "      <td>0.101</td>\n",
       "      <td>1</td>\n",
       "      <td>0</td>\n",
       "      <td>0.362</td>\n",
       "      <td>0.811</td>\n",
       "      <td>0</td>\n",
       "      <td>0</td>\n",
       "      <td>0.449</td>\n",
       "      <td>1</td>\n",
       "      <td>0.0</td>\n",
       "      <td>2</td>\n",
       "      <td>0</td>\n",
       "      <td>3</td>\n",
       "      <td>0</td>\n",
       "    </tr>\n",
       "    <tr>\n",
       "      <th>4</th>\n",
       "      <td>3</td>\n",
       "      <td>0.119</td>\n",
       "      <td>0</td>\n",
       "      <td>0</td>\n",
       "      <td>0.468</td>\n",
       "      <td>0.621</td>\n",
       "      <td>0</td>\n",
       "      <td>1</td>\n",
       "      <td>0.617</td>\n",
       "      <td>0</td>\n",
       "      <td>1.4</td>\n",
       "      <td>2</td>\n",
       "      <td>0</td>\n",
       "      <td>2</td>\n",
       "      <td>1</td>\n",
       "    </tr>\n",
       "  </tbody>\n",
       "</table>\n",
       "</div>"
      ],
      "text/plain": [
       "   cluster    age  sex  cp  trestbps   chol  fbs  restecg  thalach  exang  \\\n",
       "0        1  0.092    1   1     0.411  0.645    0        0    0.638      0   \n",
       "1        1  0.121    1   3     0.421  0.650    0        0    0.621      0   \n",
       "2        1  0.110    0   1     0.381  0.678    0        1    0.620      0   \n",
       "3        0  0.101    1   0     0.362  0.811    0        0    0.449      1   \n",
       "4        3  0.119    0   0     0.468  0.621    0        1    0.617      0   \n",
       "\n",
       "   oldpeak  slope  ca  thal  target  \n",
       "0      0.0      2   0     2       1  \n",
       "1      0.0      2   0     2       1  \n",
       "2      0.7      2   0     2       1  \n",
       "3      0.0      2   0     3       0  \n",
       "4      1.4      2   0     2       1  "
      ]
     },
     "execution_count": 1447,
     "metadata": {},
     "output_type": "execute_result"
    }
   ],
   "source": [
    "k_ndf = pd.concat([pd.DataFrame(y_kmeans)[0],ndf],axis = 1)\n",
    "k_ndf.rename({0:'cluster'},axis =1,inplace = True)\n",
    "k_ndf.head()"
   ]
  },
  {
   "cell_type": "markdown",
   "metadata": {},
   "source": [
    "# Logistic Regression"
   ]
  },
  {
   "cell_type": "markdown",
   "metadata": {},
   "source": [
    "### Logistic Regression with Normalized Data and Cluster variable"
   ]
  },
  {
   "cell_type": "code",
   "execution_count": 1448,
   "metadata": {},
   "outputs": [],
   "source": [
    "x = k_ndf.iloc[:,:14].values\n",
    "y = k_ndf.iloc[:,14].values"
   ]
  },
  {
   "cell_type": "code",
   "execution_count": 1449,
   "metadata": {},
   "outputs": [],
   "source": [
    "from sklearn.model_selection import train_test_split\n",
    "x_train, x_test, y_train, y_test = train_test_split (x,y, test_size=0.2)"
   ]
  },
  {
   "cell_type": "code",
   "execution_count": 1450,
   "metadata": {},
   "outputs": [],
   "source": [
    "from sklearn.decomposition import PCA \n",
    "pca = PCA(n_components = None)\n",
    "x_train = pca.fit_transform(x_train)\n",
    "x_test = pca.fit_transform(x_test)"
   ]
  },
  {
   "cell_type": "code",
   "execution_count": 1451,
   "metadata": {},
   "outputs": [],
   "source": [
    "from sklearn.linear_model  import LogisticRegression\n",
    "logicmodel = LogisticRegression()\n",
    "logicmodel.fit(x_train, y_train)\n",
    "#Test Data\n",
    "y_pred = logicmodel.predict(x_test)"
   ]
  },
  {
   "cell_type": "code",
   "execution_count": 1452,
   "metadata": {},
   "outputs": [
    {
     "data": {
      "text/plain": [
       "0.8282"
      ]
     },
     "execution_count": 1452,
     "metadata": {},
     "output_type": "execute_result"
    }
   ],
   "source": [
    "from sklearn.model_selection import cross_val_score\n",
    "accuracies = cross_val_score(estimator = logicmodel, X = x_train, y = y_train, cv = 10)\n",
    "lrkndf = accuracies.mean().round(4)\n",
    "stdlrkndf = accuracies.std().round(4)\n",
    "lrkndf"
   ]
  },
  {
   "cell_type": "markdown",
   "metadata": {},
   "source": [
    "### Logistic Regression With Normalized Data"
   ]
  },
  {
   "cell_type": "code",
   "execution_count": 1453,
   "metadata": {},
   "outputs": [],
   "source": [
    "x = ndf.iloc[:,:13].values\n",
    "y = ndf.iloc[:,13].values\n",
    "x_train, x_test, y_train, y_test = train_test_split (x,y, test_size=0.2)"
   ]
  },
  {
   "cell_type": "code",
   "execution_count": 1454,
   "metadata": {},
   "outputs": [],
   "source": [
    "pca = PCA(n_components = None)\n",
    "x_train = pca.fit_transform(x_train)\n",
    "x_test = pca.fit_transform(x_test)"
   ]
  },
  {
   "cell_type": "code",
   "execution_count": 1455,
   "metadata": {},
   "outputs": [],
   "source": [
    "logicmodel = LogisticRegression()\n",
    "logicmodel.fit(x_train, y_train)\n",
    "#Test Data\n",
    "y_pred = logicmodel.predict(x_test)"
   ]
  },
  {
   "cell_type": "code",
   "execution_count": 1456,
   "metadata": {},
   "outputs": [
    {
     "data": {
      "text/plain": [
       "0.8395"
      ]
     },
     "execution_count": 1456,
     "metadata": {},
     "output_type": "execute_result"
    }
   ],
   "source": [
    "accuracies = cross_val_score(estimator = logicmodel, X = x_train, y = y_train, cv = 10)\n",
    "lrndf = accuracies.mean().round(4)\n",
    "stdlrndf = accuracies.std().round(4)\n",
    "lrndf"
   ]
  },
  {
   "cell_type": "markdown",
   "metadata": {},
   "source": [
    "### Logistic Regression With Actual Data"
   ]
  },
  {
   "cell_type": "code",
   "execution_count": 1457,
   "metadata": {},
   "outputs": [],
   "source": [
    "x = df.iloc[:,:13].values\n",
    "y = df.iloc[:,13].values\n",
    "x_train, x_test, y_train, y_test = train_test_split (x,y, test_size=0.2)"
   ]
  },
  {
   "cell_type": "code",
   "execution_count": 1458,
   "metadata": {},
   "outputs": [],
   "source": [
    "logicmodel = LogisticRegression()\n",
    "logicmodel.fit(x_train, y_train)\n",
    "#Test Data\n",
    "y_pred = logicmodel.predict(x_test)"
   ]
  },
  {
   "cell_type": "code",
   "execution_count": 1459,
   "metadata": {},
   "outputs": [
    {
     "data": {
      "text/plain": [
       "0.8458"
      ]
     },
     "execution_count": 1459,
     "metadata": {},
     "output_type": "execute_result"
    }
   ],
   "source": [
    "accuracies = cross_val_score(estimator = logicmodel, X = x_train, y = y_train, cv = 10)\n",
    "lrdf = accuracies.mean().round(4)\n",
    "stdlrdf = accuracies.std().round(4)\n",
    "lrdf"
   ]
  },
  {
   "cell_type": "markdown",
   "metadata": {},
   "source": [
    "# K Nearest Neighbor"
   ]
  },
  {
   "cell_type": "markdown",
   "metadata": {},
   "source": [
    "### KNN with Normalized Data and Cluster variable"
   ]
  },
  {
   "cell_type": "code",
   "execution_count": 1460,
   "metadata": {},
   "outputs": [],
   "source": [
    "x = k_ndf.iloc[:,:14].values\n",
    "y = k_ndf.iloc[:,14].values\n",
    "x_train, x_test, y_train, y_test = train_test_split (x,y, test_size=0.2)"
   ]
  },
  {
   "cell_type": "code",
   "execution_count": 1461,
   "metadata": {},
   "outputs": [],
   "source": [
    "pca = PCA(n_components = None)\n",
    "x_train = pca.fit_transform(x_train)\n",
    "x_test = pca.fit_transform(x_test)"
   ]
  },
  {
   "cell_type": "code",
   "execution_count": 1462,
   "metadata": {},
   "outputs": [],
   "source": [
    "from sklearn.neighbors import KNeighborsClassifier\n",
    "knn = KNeighborsClassifier(n_neighbors = 5, metric = 'minkowski', p=2)\n",
    "knn.fit(x_train,y_train)\n",
    "#Test Data\n",
    "y_pred = knn.predict(x_test)"
   ]
  },
  {
   "cell_type": "code",
   "execution_count": 1463,
   "metadata": {},
   "outputs": [
    {
     "data": {
      "text/plain": [
       "0.8051"
      ]
     },
     "execution_count": 1463,
     "metadata": {},
     "output_type": "execute_result"
    }
   ],
   "source": [
    "accuracies = cross_val_score(estimator = knn, X = x_train, y = y_train, cv = 10)\n",
    "knnkndf = accuracies.mean().round(4)\n",
    "stdknnkndf = accuracies.std().round(4)\n",
    "knnkndf"
   ]
  },
  {
   "cell_type": "markdown",
   "metadata": {},
   "source": [
    "### KNN With Normalized Data"
   ]
  },
  {
   "cell_type": "code",
   "execution_count": 1464,
   "metadata": {},
   "outputs": [],
   "source": [
    "x = ndf.iloc[:,:13].values\n",
    "y = ndf.iloc[:,13].values\n",
    "x_train, x_test, y_train, y_test = train_test_split (x,y, test_size=0.2)"
   ]
  },
  {
   "cell_type": "code",
   "execution_count": 1465,
   "metadata": {},
   "outputs": [],
   "source": [
    "pca = PCA(n_components = None)\n",
    "x_train = pca.fit_transform(x_train)\n",
    "x_test = pca.fit_transform(x_test)"
   ]
  },
  {
   "cell_type": "code",
   "execution_count": 1466,
   "metadata": {},
   "outputs": [],
   "source": [
    "knn = KNeighborsClassifier(n_neighbors = 5, metric = 'minkowski', p=2)\n",
    "knn.fit(x_train,y_train)\n",
    "#Test Data\n",
    "y_pred = knn.predict(x_test)"
   ]
  },
  {
   "cell_type": "code",
   "execution_count": 1467,
   "metadata": {},
   "outputs": [
    {
     "data": {
      "text/plain": [
       "0.844"
      ]
     },
     "execution_count": 1467,
     "metadata": {},
     "output_type": "execute_result"
    }
   ],
   "source": [
    "accuracies = cross_val_score(estimator = knn, X = x_train, y = y_train, cv = 10)\n",
    "knnndf = accuracies.mean().round(4)\n",
    "stdknnndf = accuracies.std().round(4)\n",
    "knnndf"
   ]
  },
  {
   "cell_type": "markdown",
   "metadata": {},
   "source": [
    "### KNN With Actual Data"
   ]
  },
  {
   "cell_type": "code",
   "execution_count": 1468,
   "metadata": {},
   "outputs": [],
   "source": [
    "x = df.iloc[:,:13].values\n",
    "y = df.iloc[:,13].values\n",
    "x_train, x_test, y_train, y_test = train_test_split (x,y, test_size=0.2)"
   ]
  },
  {
   "cell_type": "code",
   "execution_count": 1469,
   "metadata": {},
   "outputs": [],
   "source": [
    "knn = KNeighborsClassifier(n_neighbors = 5, metric = 'minkowski', p=2)\n",
    "knn.fit(x_train,y_train)\n",
    "#Test Data\n",
    "y_pred = knn.predict(x_test)"
   ]
  },
  {
   "cell_type": "code",
   "execution_count": 1470,
   "metadata": {},
   "outputs": [
    {
     "data": {
      "text/plain": [
       "0.6646"
      ]
     },
     "execution_count": 1470,
     "metadata": {},
     "output_type": "execute_result"
    }
   ],
   "source": [
    "accuracies = cross_val_score(estimator = knn, X = x_train, y = y_train, cv = 10)\n",
    "knndf = accuracies.mean().round(4)\n",
    "stdknndf = accuracies.std().round(4)\n",
    "knndf"
   ]
  },
  {
   "cell_type": "markdown",
   "metadata": {},
   "source": [
    "# Naive Bayes"
   ]
  },
  {
   "cell_type": "markdown",
   "metadata": {},
   "source": [
    "### Naive Bayes with Normalized Data and Cluster variable"
   ]
  },
  {
   "cell_type": "code",
   "execution_count": 1471,
   "metadata": {},
   "outputs": [],
   "source": [
    "x = k_ndf.iloc[:,:14].values\n",
    "y = k_ndf.iloc[:,14].values\n",
    "x_train, x_test, y_train, y_test = train_test_split (x,y, test_size=0.2)"
   ]
  },
  {
   "cell_type": "code",
   "execution_count": 1472,
   "metadata": {},
   "outputs": [],
   "source": [
    "pca = PCA(n_components = None)\n",
    "x_train = pca.fit_transform(x_train)\n",
    "x_test = pca.fit_transform(x_test)"
   ]
  },
  {
   "cell_type": "code",
   "execution_count": 1473,
   "metadata": {},
   "outputs": [],
   "source": [
    "from sklearn.naive_bayes import GaussianNB\n",
    "nb = GaussianNB()\n",
    "nb.fit(x_train,y_train)\n",
    "#Test Data\n",
    "y_pred = nb.predict(x_test)"
   ]
  },
  {
   "cell_type": "code",
   "execution_count": 1474,
   "metadata": {},
   "outputs": [
    {
     "data": {
      "text/plain": [
       "0.7766"
      ]
     },
     "execution_count": 1474,
     "metadata": {},
     "output_type": "execute_result"
    }
   ],
   "source": [
    "accuracies = cross_val_score(estimator = nb, X = x_train, y = y_train, cv = 10)\n",
    "nbkndf = accuracies.mean().round(4)\n",
    "stdnbkndf = accuracies.std().round(4)\n",
    "nbkndf"
   ]
  },
  {
   "cell_type": "markdown",
   "metadata": {},
   "source": [
    "### Naive Bayes With Normalized Data"
   ]
  },
  {
   "cell_type": "code",
   "execution_count": 1475,
   "metadata": {},
   "outputs": [],
   "source": [
    "x = ndf.iloc[:,:13].values\n",
    "y = ndf.iloc[:,13].values\n",
    "x_train, x_test, y_train, y_test = train_test_split (x,y, test_size=0.2)"
   ]
  },
  {
   "cell_type": "code",
   "execution_count": 1476,
   "metadata": {},
   "outputs": [],
   "source": [
    "pca = PCA(n_components = None)\n",
    "x_train = pca.fit_transform(x_train)\n",
    "x_test = pca.fit_transform(x_test)"
   ]
  },
  {
   "cell_type": "code",
   "execution_count": 1477,
   "metadata": {},
   "outputs": [],
   "source": [
    "nb = GaussianNB()\n",
    "nb.fit(x_train,y_train)\n",
    "#Test Data\n",
    "y_pred = nb.predict(x_test)"
   ]
  },
  {
   "cell_type": "code",
   "execution_count": 1478,
   "metadata": {},
   "outputs": [
    {
     "data": {
      "text/plain": [
       "0.8429"
      ]
     },
     "execution_count": 1478,
     "metadata": {},
     "output_type": "execute_result"
    }
   ],
   "source": [
    "accuracies = cross_val_score(estimator = nb, X = x_train, y = y_train, cv = 10)\n",
    "nbndf = accuracies.mean().round(4)\n",
    "stdnbndf = accuracies.std().round(4)\n",
    "nbndf"
   ]
  },
  {
   "cell_type": "markdown",
   "metadata": {},
   "source": [
    "### Naive Bayes with Actual Data"
   ]
  },
  {
   "cell_type": "code",
   "execution_count": 1479,
   "metadata": {},
   "outputs": [],
   "source": [
    "x = df.iloc[:,:13].values\n",
    "y = df.iloc[:,13].values\n",
    "x_train, x_test, y_train, y_test = train_test_split (x,y, test_size=0.2)"
   ]
  },
  {
   "cell_type": "code",
   "execution_count": 1480,
   "metadata": {},
   "outputs": [],
   "source": [
    "nb = GaussianNB()\n",
    "nb.fit(x_train,y_train)\n",
    "#Test Data\n",
    "y_pred = nb.predict(x_test)"
   ]
  },
  {
   "cell_type": "code",
   "execution_count": 1481,
   "metadata": {},
   "outputs": [
    {
     "data": {
      "text/plain": [
       "0.811"
      ]
     },
     "execution_count": 1481,
     "metadata": {},
     "output_type": "execute_result"
    }
   ],
   "source": [
    "accuracies = cross_val_score(estimator = nb, X = x_train, y = y_train, cv = 10)\n",
    "nbdf = accuracies.mean().round(4)\n",
    "stdnbdf = accuracies.std().round(4)\n",
    "nbdf"
   ]
  },
  {
   "cell_type": "markdown",
   "metadata": {},
   "source": [
    "# Decision Tree "
   ]
  },
  {
   "cell_type": "markdown",
   "metadata": {},
   "source": [
    "### Decision Tree with Normalized Data and Cluster variable"
   ]
  },
  {
   "cell_type": "code",
   "execution_count": 1482,
   "metadata": {},
   "outputs": [],
   "source": [
    "x = k_ndf.iloc[:,:14].values\n",
    "y = k_ndf.iloc[:,14].values\n",
    "x_train, x_test, y_train, y_test = train_test_split (x,y, test_size=0.2)"
   ]
  },
  {
   "cell_type": "code",
   "execution_count": 1483,
   "metadata": {},
   "outputs": [],
   "source": [
    "pca = PCA(n_components = None)\n",
    "x_train = pca.fit_transform(x_train)\n",
    "x_test = pca.fit_transform(x_test)"
   ]
  },
  {
   "cell_type": "code",
   "execution_count": 1484,
   "metadata": {},
   "outputs": [],
   "source": [
    "from sklearn.tree import DecisionTreeClassifier\n",
    "dt = DecisionTreeClassifier(criterion = 'entropy')\n",
    "dt.fit(x_train, y_train)\n",
    "#Test Data\n",
    "y_pred = dt.predict(x_test) "
   ]
  },
  {
   "cell_type": "code",
   "execution_count": 1485,
   "metadata": {},
   "outputs": [
    {
     "data": {
      "text/plain": [
       "0.7479"
      ]
     },
     "execution_count": 1485,
     "metadata": {},
     "output_type": "execute_result"
    }
   ],
   "source": [
    "accuracies = cross_val_score(estimator = dt, X = x_train, y = y_train, cv = 10)\n",
    "dtkndf = accuracies.mean().round(4)\n",
    "stddtkndf = accuracies.std().round(4)\n",
    "dtkndf"
   ]
  },
  {
   "cell_type": "markdown",
   "metadata": {},
   "source": [
    "### Decision Tree With Normalized Data"
   ]
  },
  {
   "cell_type": "code",
   "execution_count": 1486,
   "metadata": {},
   "outputs": [],
   "source": [
    "x = ndf.iloc[:,:13].values\n",
    "y = ndf.iloc[:,13].values\n",
    "x_train, x_test, y_train, y_test = train_test_split (x,y, test_size=0.2)"
   ]
  },
  {
   "cell_type": "code",
   "execution_count": 1487,
   "metadata": {},
   "outputs": [],
   "source": [
    "pca = PCA(n_components = None)\n",
    "x_train = pca.fit_transform(x_train)\n",
    "x_test = pca.fit_transform(x_test)"
   ]
  },
  {
   "cell_type": "code",
   "execution_count": 1488,
   "metadata": {},
   "outputs": [],
   "source": [
    "dt = DecisionTreeClassifier(criterion = 'entropy')\n",
    "dt.fit(x_train, y_train)\n",
    "#Test Data\n",
    "y_pred = dt.predict(x_test) "
   ]
  },
  {
   "cell_type": "code",
   "execution_count": 1489,
   "metadata": {},
   "outputs": [
    {
     "data": {
      "text/plain": [
       "0.7349"
      ]
     },
     "execution_count": 1489,
     "metadata": {},
     "output_type": "execute_result"
    }
   ],
   "source": [
    "accuracies = cross_val_score(estimator = dt, X = x_train, y = y_train, cv = 10)\n",
    "dtndf = accuracies.mean().round(4)\n",
    "stddtndf = accuracies.std().round(4)\n",
    "dtndf"
   ]
  },
  {
   "cell_type": "markdown",
   "metadata": {},
   "source": [
    "### Decision Tree with Actual Data"
   ]
  },
  {
   "cell_type": "code",
   "execution_count": 1490,
   "metadata": {},
   "outputs": [],
   "source": [
    "x = df.iloc[:,:13].values\n",
    "y = df.iloc[:,13].values\n",
    "x_train, x_test, y_train, y_test = train_test_split (x,y, test_size=0.2)"
   ]
  },
  {
   "cell_type": "code",
   "execution_count": 1491,
   "metadata": {},
   "outputs": [],
   "source": [
    "dt = DecisionTreeClassifier(criterion = 'entropy')\n",
    "dt.fit(x_train, y_train)\n",
    "#Test Data\n",
    "y_pred = dt.predict(x_test) "
   ]
  },
  {
   "cell_type": "code",
   "execution_count": 1492,
   "metadata": {},
   "outputs": [
    {
     "data": {
      "text/plain": [
       "0.7934"
      ]
     },
     "execution_count": 1492,
     "metadata": {},
     "output_type": "execute_result"
    }
   ],
   "source": [
    "accuracies = cross_val_score(estimator = dt, X = x_train, y = y_train, cv = 10)\n",
    "dtdf = accuracies.mean().round(4)\n",
    "stddtdf = accuracies.std().round(4)\n",
    "dtdf"
   ]
  },
  {
   "cell_type": "markdown",
   "metadata": {},
   "source": [
    "# Random Forest"
   ]
  },
  {
   "cell_type": "markdown",
   "metadata": {},
   "source": [
    "### Random Forest with Normalized Data and Cluster variable"
   ]
  },
  {
   "cell_type": "code",
   "execution_count": 1493,
   "metadata": {},
   "outputs": [],
   "source": [
    "x = k_ndf.iloc[:,:14].values\n",
    "y = k_ndf.iloc[:,14].values\n",
    "x_train, x_test, y_train, y_test = train_test_split (x,y, test_size=0.2)"
   ]
  },
  {
   "cell_type": "code",
   "execution_count": 1494,
   "metadata": {},
   "outputs": [],
   "source": [
    "pca = PCA(n_components = None)\n",
    "x_train = pca.fit_transform(x_train)\n",
    "x_test = pca.fit_transform(x_test)"
   ]
  },
  {
   "cell_type": "code",
   "execution_count": 1495,
   "metadata": {},
   "outputs": [],
   "source": [
    "from sklearn.ensemble import RandomForestClassifier\n",
    "rf = RandomForestClassifier(criterion = 'entropy')\n",
    "rf.fit(x_train, y_train)\n",
    "#Test Data\n",
    "y_pred = rf.predict(x_test)"
   ]
  },
  {
   "cell_type": "code",
   "execution_count": 1496,
   "metadata": {},
   "outputs": [
    {
     "data": {
      "text/plain": [
       "0.7049"
      ]
     },
     "execution_count": 1496,
     "metadata": {},
     "output_type": "execute_result"
    }
   ],
   "source": [
    "accuracies = cross_val_score(estimator = rf, X = x_train, y = y_train, cv = 10)\n",
    "rfkndf = accuracies.mean().round(4)\n",
    "stdrfkndf = accuracies.std().round(4)\n",
    "rfkndf"
   ]
  },
  {
   "cell_type": "markdown",
   "metadata": {},
   "source": [
    "### Random Forest With Normalized Data"
   ]
  },
  {
   "cell_type": "code",
   "execution_count": 1497,
   "metadata": {},
   "outputs": [],
   "source": [
    "x = ndf.iloc[:,:13].values\n",
    "y = ndf.iloc[:,13].values\n",
    "x_train, x_test, y_train, y_test = train_test_split (x,y, test_size=0.2)"
   ]
  },
  {
   "cell_type": "code",
   "execution_count": 1498,
   "metadata": {},
   "outputs": [],
   "source": [
    "pca = PCA(n_components = None)\n",
    "x_train = pca.fit_transform(x_train)\n",
    "x_test = pca.fit_transform(x_test)"
   ]
  },
  {
   "cell_type": "code",
   "execution_count": 1499,
   "metadata": {},
   "outputs": [],
   "source": [
    "rf = RandomForestClassifier(criterion = 'entropy')\n",
    "rf.fit(x_train, y_train)\n",
    "#Test Data\n",
    "y_pred = rf.predict(x_test)"
   ]
  },
  {
   "cell_type": "code",
   "execution_count": 1500,
   "metadata": {},
   "outputs": [
    {
     "data": {
      "text/plain": [
       "0.7694"
      ]
     },
     "execution_count": 1500,
     "metadata": {},
     "output_type": "execute_result"
    }
   ],
   "source": [
    "accuracies = cross_val_score(estimator = rf, X = x_train, y = y_train, cv = 10)\n",
    "rfndf = accuracies.mean().round(4)\n",
    "stdrfndf  = accuracies.std().round(4)\n",
    "rfndf"
   ]
  },
  {
   "cell_type": "markdown",
   "metadata": {},
   "source": [
    "### Random Forest with Actual Data"
   ]
  },
  {
   "cell_type": "code",
   "execution_count": 1501,
   "metadata": {},
   "outputs": [],
   "source": [
    "x = df.iloc[:,:13].values\n",
    "y = df.iloc[:,13].values\n",
    "x_train, x_test, y_train, y_test = train_test_split (x,y, test_size=0.2)"
   ]
  },
  {
   "cell_type": "code",
   "execution_count": 1502,
   "metadata": {},
   "outputs": [],
   "source": [
    "pca = PCA(n_components = None)\n",
    "x_train = pca.fit_transform(x_train)\n",
    "x_test = pca.fit_transform(x_test)"
   ]
  },
  {
   "cell_type": "code",
   "execution_count": 1503,
   "metadata": {},
   "outputs": [],
   "source": [
    "rf = RandomForestClassifier(criterion = 'entropy')\n",
    "rf.fit(x_train, y_train)\n",
    "#Test Data\n",
    "y_pred = rf.predict(x_test)"
   ]
  },
  {
   "cell_type": "code",
   "execution_count": 1504,
   "metadata": {},
   "outputs": [
    {
     "data": {
      "text/plain": [
       "0.777"
      ]
     },
     "execution_count": 1504,
     "metadata": {},
     "output_type": "execute_result"
    }
   ],
   "source": [
    "accuracies = cross_val_score(estimator = rf, X = x_train, y = y_train, cv = 10)\n",
    "rfdf = accuracies.mean().round(4)\n",
    "stdrfdf = accuracies.std().round(4)\n",
    "rfdf"
   ]
  },
  {
   "cell_type": "markdown",
   "metadata": {},
   "source": [
    "# Support Vector Machine"
   ]
  },
  {
   "cell_type": "markdown",
   "metadata": {},
   "source": [
    "### Support Vector Machine with Normalized Data and Cluster Variable"
   ]
  },
  {
   "cell_type": "code",
   "execution_count": 1505,
   "metadata": {},
   "outputs": [],
   "source": [
    "x = k_ndf.iloc[:,:14].values\n",
    "y = k_ndf.iloc[:,14].values\n",
    "x_train, x_test, y_train, y_test = train_test_split (x,y, test_size=0.2)"
   ]
  },
  {
   "cell_type": "code",
   "execution_count": 1506,
   "metadata": {},
   "outputs": [],
   "source": [
    "pca = PCA(n_components = None)\n",
    "x_train = pca.fit_transform(x_train)\n",
    "x_test = pca.fit_transform(x_test)"
   ]
  },
  {
   "cell_type": "code",
   "execution_count": 1507,
   "metadata": {},
   "outputs": [
    {
     "data": {
      "text/plain": [
       "0.8472"
      ]
     },
     "execution_count": 1507,
     "metadata": {},
     "output_type": "execute_result"
    }
   ],
   "source": [
    "from sklearn.svm import SVC\n",
    "sv = SVC (kernel = 'linear')\n",
    "# types of kernels are linear, sigmoid, Radial Basis Function(rbf), Polynomial\n",
    "sv.fit(x_train, y_train)\n",
    "#Test Data\n",
    "y_pred = sv.predict(x_test)\n",
    "accuracies = cross_val_score(estimator = sv, X = x_train, y = y_train, cv = 10)\n",
    "svmkndflin = accuracies.mean().round(4)\n",
    "stdsvmkndflin = accuracies.std().round(4)\n",
    "svmkndflin"
   ]
  },
  {
   "cell_type": "code",
   "execution_count": 1508,
   "metadata": {},
   "outputs": [
    {
     "data": {
      "text/plain": [
       "0.848"
      ]
     },
     "execution_count": 1508,
     "metadata": {},
     "output_type": "execute_result"
    }
   ],
   "source": [
    "sv = SVC (kernel = 'sigmoid')\n",
    "# types of kernels are linear, sigmoid, Radial Basis Function(rbf), Polynomial\n",
    "sv.fit(x_train, y_train)\n",
    "#Test Data\n",
    "y_pred = sv.predict(x_test)\n",
    "accuracies = cross_val_score(estimator = sv, X = x_train, y = y_train, cv = 10)\n",
    "svmkndfsig = accuracies.mean().round(4)\n",
    "stdsvmkndfsig = accuracies.std().round(4)\n",
    "svmkndfsig"
   ]
  },
  {
   "cell_type": "code",
   "execution_count": 1509,
   "metadata": {},
   "outputs": [
    {
     "data": {
      "text/plain": [
       "0.835"
      ]
     },
     "execution_count": 1509,
     "metadata": {},
     "output_type": "execute_result"
    }
   ],
   "source": [
    "sv = SVC (kernel = 'rbf')\n",
    "# types of kernels are linear, sigmoid, Radial Basis Function(rbf), Polynomial\n",
    "sv.fit(x_train, y_train)\n",
    "#Test Data\n",
    "y_pred = sv.predict(x_test)\n",
    "accuracies = cross_val_score(estimator = sv, X = x_train, y = y_train, cv = 10)\n",
    "svmkndfrbf = accuracies.mean().round(4)\n",
    "stdsvmkndfrbf = accuracies.std().round(4)\n",
    "svmkndfrbf"
   ]
  },
  {
   "cell_type": "markdown",
   "metadata": {},
   "source": [
    "### Support Vector Machine with Normalized Data "
   ]
  },
  {
   "cell_type": "code",
   "execution_count": 1510,
   "metadata": {},
   "outputs": [],
   "source": [
    "x = ndf.iloc[:,:13].values\n",
    "y = ndf.iloc[:,13].values\n",
    "x_train, x_test, y_train, y_test = train_test_split (x,y, test_size=0.2)"
   ]
  },
  {
   "cell_type": "code",
   "execution_count": 1511,
   "metadata": {},
   "outputs": [],
   "source": [
    "pca = PCA(n_components = None)\n",
    "x_train = pca.fit_transform(x_train)\n",
    "x_test = pca.fit_transform(x_test)"
   ]
  },
  {
   "cell_type": "code",
   "execution_count": 1512,
   "metadata": {},
   "outputs": [
    {
     "data": {
      "text/plain": [
       "0.847"
      ]
     },
     "execution_count": 1512,
     "metadata": {},
     "output_type": "execute_result"
    }
   ],
   "source": [
    "sv = SVC (kernel = 'linear')\n",
    "# types of kernels are linear, sigmoid, Radial Basis Function(rbf), Polynomial\n",
    "sv.fit(x_train, y_train)\n",
    "#Test Data\n",
    "y_pred = sv.predict(x_test)\n",
    "accuracies = cross_val_score(estimator = sv, X = x_train, y = y_train, cv = 10)\n",
    "svmndflin = accuracies.mean().round(4)\n",
    "stdsvmndflin = accuracies.std().round(4)\n",
    "svmndflin"
   ]
  },
  {
   "cell_type": "code",
   "execution_count": 1513,
   "metadata": {},
   "outputs": [
    {
     "data": {
      "text/plain": [
       "0.8303"
      ]
     },
     "execution_count": 1513,
     "metadata": {},
     "output_type": "execute_result"
    }
   ],
   "source": [
    "sv = SVC (kernel = 'sigmoid')\n",
    "# types of kernels are linear, sigmoid, Radial Basis Function(rbf), Polynomial\n",
    "sv.fit(x_train, y_train)\n",
    "#Test Data\n",
    "y_pred = sv.predict(x_test)\n",
    "accuracies = cross_val_score(estimator = sv, X = x_train, y = y_train, cv = 10)\n",
    "svmndfsig = accuracies.mean().round(4)\n",
    "stdsvmndfsig = accuracies.std().round(4)\n",
    "svmndfsig"
   ]
  },
  {
   "cell_type": "code",
   "execution_count": 1514,
   "metadata": {},
   "outputs": [
    {
     "data": {
      "text/plain": [
       "0.8258"
      ]
     },
     "execution_count": 1514,
     "metadata": {},
     "output_type": "execute_result"
    }
   ],
   "source": [
    "sv = SVC (kernel = 'rbf')\n",
    "# types of kernels are linear, sigmoid, Radial Basis Function(rbf), Polynomial\n",
    "sv.fit(x_train, y_train)\n",
    "#Test Data\n",
    "y_pred = sv.predict(x_test)\n",
    "accuracies = cross_val_score(estimator = sv, X = x_train, y = y_train, cv = 10)\n",
    "svmndfrbf = accuracies.mean().round(4)\n",
    "stdsvmndfrbf = accuracies.std().round(4)\n",
    "svmndfrbf"
   ]
  },
  {
   "cell_type": "markdown",
   "metadata": {},
   "source": [
    "### Support Vector Machine with Actual Data"
   ]
  },
  {
   "cell_type": "code",
   "execution_count": 1515,
   "metadata": {},
   "outputs": [],
   "source": [
    "x = df.iloc[:,:13].values\n",
    "y = df.iloc[:,13].values\n",
    "x_train, x_test, y_train, y_test = train_test_split (x,y, test_size=0.2)"
   ]
  },
  {
   "cell_type": "code",
   "execution_count": 1516,
   "metadata": {},
   "outputs": [
    {
     "data": {
      "text/plain": [
       "0.8013"
      ]
     },
     "execution_count": 1516,
     "metadata": {},
     "output_type": "execute_result"
    }
   ],
   "source": [
    "sv = SVC (kernel = 'linear')\n",
    "# types of kernels are linear, sigmoid, Radial Basis Function(rbf), Polynomial\n",
    "sv.fit(x_train, y_train)\n",
    "#Test Data\n",
    "y_pred = sv.predict(x_test)\n",
    "accuracies = cross_val_score(estimator = sv, X = x_train, y = y_train, cv = 10)\n",
    "svmdflin = accuracies.mean().round(4)\n",
    "stdsvmdflin = accuracies.std().round(4)\n",
    "svmdflin"
   ]
  },
  {
   "cell_type": "code",
   "execution_count": 1517,
   "metadata": {},
   "outputs": [
    {
     "data": {
      "text/plain": [
       "0.5413"
      ]
     },
     "execution_count": 1517,
     "metadata": {},
     "output_type": "execute_result"
    }
   ],
   "source": [
    "sv = SVC (kernel = 'sigmoid')\n",
    "# types of kernels are linear, sigmoid, Radial Basis Function(rbf), Polynomial\n",
    "sv.fit(x_train, y_train)\n",
    "#Test Data\n",
    "y_pred = sv.predict(x_test)\n",
    "accuracies = cross_val_score(estimator = sv, X = x_train, y = y_train, cv = 10)\n",
    "svmdfsig = accuracies.mean().round(4)\n",
    "stdsvmdfsig = accuracies.std().round(4)\n",
    "svmdfsig"
   ]
  },
  {
   "cell_type": "code",
   "execution_count": 1518,
   "metadata": {},
   "outputs": [
    {
     "data": {
      "text/plain": [
       "0.5413"
      ]
     },
     "execution_count": 1518,
     "metadata": {},
     "output_type": "execute_result"
    }
   ],
   "source": [
    "sv = SVC (kernel = 'rbf')\n",
    "# types of kernels are linear, sigmoid, Radial Basis Function(rbf), Polynomial\n",
    "sv.fit(x_train, y_train)\n",
    "#Test Data\n",
    "y_pred = sv.predict(x_test)\n",
    "accuracies = cross_val_score(estimator = sv, X = x_train, y = y_train, cv = 10)\n",
    "svmdfrbf = accuracies.mean().round(4)\n",
    "stdsvmdfrbf = accuracies.std().round(4)\n",
    "svmdfrbf"
   ]
  },
  {
   "cell_type": "markdown",
   "metadata": {},
   "source": [
    "# P$\\sigma$ "
   ]
  },
  {
   "cell_type": "code",
   "execution_count": 1519,
   "metadata": {},
   "outputs": [
    {
     "data": {
      "text/html": [
       "<div>\n",
       "<style scoped>\n",
       "    .dataframe tbody tr th:only-of-type {\n",
       "        vertical-align: middle;\n",
       "    }\n",
       "\n",
       "    .dataframe tbody tr th {\n",
       "        vertical-align: top;\n",
       "    }\n",
       "\n",
       "    .dataframe thead th {\n",
       "        text-align: right;\n",
       "    }\n",
       "</style>\n",
       "<table border=\"1\" class=\"dataframe\">\n",
       "  <thead>\n",
       "    <tr style=\"text-align: right;\">\n",
       "      <th></th>\n",
       "      <th>age</th>\n",
       "      <th>sex</th>\n",
       "      <th>cp</th>\n",
       "      <th>trestbps</th>\n",
       "      <th>chol</th>\n",
       "      <th>fbs</th>\n",
       "      <th>restecg</th>\n",
       "      <th>thalach</th>\n",
       "      <th>exang</th>\n",
       "      <th>oldpeak</th>\n",
       "      <th>slope</th>\n",
       "      <th>ca</th>\n",
       "      <th>thal</th>\n",
       "      <th>target</th>\n",
       "    </tr>\n",
       "  </thead>\n",
       "  <tbody>\n",
       "    <tr>\n",
       "      <th>0</th>\n",
       "      <td>29</td>\n",
       "      <td>1</td>\n",
       "      <td>1</td>\n",
       "      <td>130</td>\n",
       "      <td>204</td>\n",
       "      <td>0</td>\n",
       "      <td>0</td>\n",
       "      <td>202</td>\n",
       "      <td>0</td>\n",
       "      <td>0.0</td>\n",
       "      <td>2</td>\n",
       "      <td>0</td>\n",
       "      <td>2</td>\n",
       "      <td>1</td>\n",
       "    </tr>\n",
       "    <tr>\n",
       "      <th>1</th>\n",
       "      <td>34</td>\n",
       "      <td>1</td>\n",
       "      <td>3</td>\n",
       "      <td>118</td>\n",
       "      <td>182</td>\n",
       "      <td>0</td>\n",
       "      <td>0</td>\n",
       "      <td>174</td>\n",
       "      <td>0</td>\n",
       "      <td>0.0</td>\n",
       "      <td>2</td>\n",
       "      <td>0</td>\n",
       "      <td>2</td>\n",
       "      <td>1</td>\n",
       "    </tr>\n",
       "    <tr>\n",
       "      <th>2</th>\n",
       "      <td>34</td>\n",
       "      <td>0</td>\n",
       "      <td>1</td>\n",
       "      <td>118</td>\n",
       "      <td>210</td>\n",
       "      <td>0</td>\n",
       "      <td>1</td>\n",
       "      <td>192</td>\n",
       "      <td>0</td>\n",
       "      <td>0.7</td>\n",
       "      <td>2</td>\n",
       "      <td>0</td>\n",
       "      <td>2</td>\n",
       "      <td>1</td>\n",
       "    </tr>\n",
       "    <tr>\n",
       "      <th>3</th>\n",
       "      <td>35</td>\n",
       "      <td>1</td>\n",
       "      <td>0</td>\n",
       "      <td>126</td>\n",
       "      <td>282</td>\n",
       "      <td>0</td>\n",
       "      <td>0</td>\n",
       "      <td>156</td>\n",
       "      <td>1</td>\n",
       "      <td>0.0</td>\n",
       "      <td>2</td>\n",
       "      <td>0</td>\n",
       "      <td>3</td>\n",
       "      <td>0</td>\n",
       "    </tr>\n",
       "    <tr>\n",
       "      <th>4</th>\n",
       "      <td>35</td>\n",
       "      <td>0</td>\n",
       "      <td>0</td>\n",
       "      <td>138</td>\n",
       "      <td>183</td>\n",
       "      <td>0</td>\n",
       "      <td>1</td>\n",
       "      <td>182</td>\n",
       "      <td>0</td>\n",
       "      <td>1.4</td>\n",
       "      <td>2</td>\n",
       "      <td>0</td>\n",
       "      <td>2</td>\n",
       "      <td>1</td>\n",
       "    </tr>\n",
       "  </tbody>\n",
       "</table>\n",
       "</div>"
      ],
      "text/plain": [
       "   age  sex  cp  trestbps  chol  fbs  restecg  thalach  exang  oldpeak  slope  \\\n",
       "0   29    1   1       130   204    0        0      202      0      0.0      2   \n",
       "1   34    1   3       118   182    0        0      174      0      0.0      2   \n",
       "2   34    0   1       118   210    0        1      192      0      0.7      2   \n",
       "3   35    1   0       126   282    0        0      156      1      0.0      2   \n",
       "4   35    0   0       138   183    0        1      182      0      1.4      2   \n",
       "\n",
       "   ca  thal  target  \n",
       "0   0     2       1  \n",
       "1   0     2       1  \n",
       "2   0     2       1  \n",
       "3   0     3       0  \n",
       "4   0     2       1  "
      ]
     },
     "execution_count": 1519,
     "metadata": {},
     "output_type": "execute_result"
    }
   ],
   "source": [
    "df = pd.read_csv('/Users/umangpandya/Downloads/heart.csv')\n",
    "df.sort_values(by = 'age',inplace = True)\n",
    "df.reset_index(inplace=True)\n",
    "df.drop(columns='index',inplace=True)\n",
    "df.head()"
   ]
  },
  {
   "cell_type": "code",
   "execution_count": 1520,
   "metadata": {},
   "outputs": [
    {
     "data": {
      "text/html": [
       "<div>\n",
       "<style scoped>\n",
       "    .dataframe tbody tr th:only-of-type {\n",
       "        vertical-align: middle;\n",
       "    }\n",
       "\n",
       "    .dataframe tbody tr th {\n",
       "        vertical-align: top;\n",
       "    }\n",
       "\n",
       "    .dataframe thead th {\n",
       "        text-align: right;\n",
       "    }\n",
       "</style>\n",
       "<table border=\"1\" class=\"dataframe\">\n",
       "  <thead>\n",
       "    <tr style=\"text-align: right;\">\n",
       "      <th></th>\n",
       "      <th>age</th>\n",
       "      <th>sex</th>\n",
       "      <th>cp</th>\n",
       "      <th>trestbps</th>\n",
       "      <th>chol</th>\n",
       "      <th>fbs</th>\n",
       "      <th>restecg</th>\n",
       "      <th>thalach</th>\n",
       "      <th>exang</th>\n",
       "      <th>oldpeak</th>\n",
       "      <th>slope</th>\n",
       "      <th>ca</th>\n",
       "      <th>thal</th>\n",
       "      <th>target</th>\n",
       "    </tr>\n",
       "  </thead>\n",
       "  <tbody>\n",
       "    <tr>\n",
       "      <th>0</th>\n",
       "      <td>-0.466582</td>\n",
       "      <td>1</td>\n",
       "      <td>1</td>\n",
       "      <td>-0.012336</td>\n",
       "      <td>-0.171621</td>\n",
       "      <td>0</td>\n",
       "      <td>0</td>\n",
       "      <td>0.349845</td>\n",
       "      <td>0</td>\n",
       "      <td>0.0</td>\n",
       "      <td>2</td>\n",
       "      <td>0</td>\n",
       "      <td>2</td>\n",
       "      <td>1</td>\n",
       "    </tr>\n",
       "    <tr>\n",
       "      <th>1</th>\n",
       "      <td>-0.374613</td>\n",
       "      <td>1</td>\n",
       "      <td>3</td>\n",
       "      <td>-0.103505</td>\n",
       "      <td>-0.260956</td>\n",
       "      <td>0</td>\n",
       "      <td>0</td>\n",
       "      <td>0.162737</td>\n",
       "      <td>0</td>\n",
       "      <td>0.0</td>\n",
       "      <td>2</td>\n",
       "      <td>0</td>\n",
       "      <td>2</td>\n",
       "      <td>1</td>\n",
       "    </tr>\n",
       "    <tr>\n",
       "      <th>2</th>\n",
       "      <td>-0.374613</td>\n",
       "      <td>0</td>\n",
       "      <td>1</td>\n",
       "      <td>-0.103505</td>\n",
       "      <td>-0.147257</td>\n",
       "      <td>0</td>\n",
       "      <td>1</td>\n",
       "      <td>0.283021</td>\n",
       "      <td>0</td>\n",
       "      <td>0.7</td>\n",
       "      <td>2</td>\n",
       "      <td>0</td>\n",
       "      <td>2</td>\n",
       "      <td>1</td>\n",
       "    </tr>\n",
       "    <tr>\n",
       "      <th>3</th>\n",
       "      <td>-0.356219</td>\n",
       "      <td>1</td>\n",
       "      <td>0</td>\n",
       "      <td>-0.042726</td>\n",
       "      <td>0.145112</td>\n",
       "      <td>0</td>\n",
       "      <td>0</td>\n",
       "      <td>0.042454</td>\n",
       "      <td>1</td>\n",
       "      <td>0.0</td>\n",
       "      <td>2</td>\n",
       "      <td>0</td>\n",
       "      <td>3</td>\n",
       "      <td>0</td>\n",
       "    </tr>\n",
       "    <tr>\n",
       "      <th>4</th>\n",
       "      <td>-0.356219</td>\n",
       "      <td>0</td>\n",
       "      <td>0</td>\n",
       "      <td>0.048443</td>\n",
       "      <td>-0.256895</td>\n",
       "      <td>0</td>\n",
       "      <td>1</td>\n",
       "      <td>0.216197</td>\n",
       "      <td>0</td>\n",
       "      <td>1.4</td>\n",
       "      <td>2</td>\n",
       "      <td>0</td>\n",
       "      <td>2</td>\n",
       "      <td>1</td>\n",
       "    </tr>\n",
       "  </tbody>\n",
       "</table>\n",
       "</div>"
      ],
      "text/plain": [
       "        age  sex  cp  trestbps      chol  fbs  restecg   thalach  exang  \\\n",
       "0 -0.466582    1   1 -0.012336 -0.171621    0        0  0.349845      0   \n",
       "1 -0.374613    1   3 -0.103505 -0.260956    0        0  0.162737      0   \n",
       "2 -0.374613    0   1 -0.103505 -0.147257    0        1  0.283021      0   \n",
       "3 -0.356219    1   0 -0.042726  0.145112    0        0  0.042454      1   \n",
       "4 -0.356219    0   0  0.048443 -0.256895    0        1  0.216197      0   \n",
       "\n",
       "   oldpeak  slope  ca  thal  target  \n",
       "0      0.0      2   0     2       1  \n",
       "1      0.0      2   0     2       1  \n",
       "2      0.7      2   0     2       1  \n",
       "3      0.0      2   0     3       0  \n",
       "4      1.4      2   0     2       1  "
      ]
     },
     "execution_count": 1520,
     "metadata": {},
     "output_type": "execute_result"
    }
   ],
   "source": [
    "import statistics\n",
    "df['age'] = ((df['age']-df['age'].mean())/df['age'].mean())\n",
    "df['trestbps'] = ((df['trestbps']-df['trestbps'].mean())/df['trestbps'].mean())\n",
    "df['chol'] = ((df['chol']-df['chol'].mean())/df['chol'].mean())\n",
    "df['thalach'] = ((df['thalach']-df['thalach'].mean())/df['thalach'].mean())\n",
    "df.head()"
   ]
  },
  {
   "cell_type": "code",
   "execution_count": 1521,
   "metadata": {},
   "outputs": [
    {
     "data": {
      "text/plain": [
       "<matplotlib.axes._subplots.AxesSubplot at 0x1a2c2e20f0>"
      ]
     },
     "execution_count": 1521,
     "metadata": {},
     "output_type": "execute_result"
    },
    {
     "data": {
      "image/png": "[encoded data removed]",
      "text/plain": [
       "<Figure size 432x288 with 1 Axes>"
      ]
     },
     "metadata": {
      "needs_background": "light"
     },
     "output_type": "display_data"
    }
   ],
   "source": [
    "df[['age','thalach','trestbps','chol']].plot(kind='box',grid = False,layout=None)"
   ]
  },
  {
   "cell_type": "code",
   "execution_count": 1522,
   "metadata": {},
   "outputs": [
    {
     "data": {
      "text/plain": [
       "<matplotlib.axes._subplots.AxesSubplot at 0x1a2c4bd3c8>"
      ]
     },
     "execution_count": 1522,
     "metadata": {},
     "output_type": "execute_result"
    },
    {
     "data": {
      "image/png": "[encoded data removed]",
      "text/plain": [
       "<Figure size 432x288 with 2 Axes>"
      ]
     },
     "metadata": {
      "needs_background": "light"
     },
     "output_type": "display_data"
    }
   ],
   "source": [
    "sns.heatmap(df[['age','thalach','trestbps','chol']].corr(),annot = True)"
   ]
  },
  {
   "cell_type": "code",
   "execution_count": 1523,
   "metadata": {},
   "outputs": [
    {
     "data": {
      "text/plain": [
       "<matplotlib.legend.Legend at 0x1a2c2298d0>"
      ]
     },
     "execution_count": 1523,
     "metadata": {},
     "output_type": "execute_result"
    },
    {
     "data": {
      "image/png": "[encoded data removed]",
      "text/plain": [
       "<Figure size 432x288 with 1 Axes>"
      ]
     },
     "metadata": {
      "needs_background": "light"
     },
     "output_type": "display_data"
    }
   ],
   "source": [
    "sns.scatterplot(x = 'chol', y = 'trestbps', data = df, color = 'r',legend = 'full')\n",
    "sns.scatterplot(x = 'age', y = 'chol', data = df,color = 'g',legend = 'full')\n",
    "sns.scatterplot(x = 'age', y = 'trestbps', data = df,color = 'b',legend = 'full')\n",
    "plt.xlabel('Various Independent')\n",
    "plt.ylabel('Various Dependent')\n",
    "plt.title('Mix Scatter')\n",
    "plt.legend('labels',)"
   ]
  },
  {
   "cell_type": "code",
   "execution_count": 1524,
   "metadata": {},
   "outputs": [
    {
     "data": {
      "text/plain": [
       "Text(0.5, 1.0, 'Mix Distributions')"
      ]
     },
     "execution_count": 1524,
     "metadata": {},
     "output_type": "execute_result"
    },
    {
     "data": {
      "image/png": "[encoded data removed]",
      "text/plain": [
       "<Figure size 432x288 with 1 Axes>"
      ]
     },
     "metadata": {
      "needs_background": "light"
     },
     "output_type": "display_data"
    }
   ],
   "source": [
    "df['chol'].plot(kind = 'hist',bins = 30, legend = True)\n",
    "df['trestbps'].plot(kind = 'hist',bins = 30,legend = True)\n",
    "df['thalach'].plot(kind = 'hist',bins = 30,legend = True)\n",
    "df['age'].plot(kind = 'hist',bins = 30,legend = True)\n",
    "plt.xlabel('Cholesterol, Resting BP, Max HR, Age')\n",
    "plt.title('Mix Distributions')"
   ]
  },
  {
   "cell_type": "code",
   "execution_count": 1525,
   "metadata": {},
   "outputs": [
    {
     "data": {
      "text/plain": [
       "<matplotlib.axes._subplots.AxesSubplot at 0x1a2a851cc0>"
      ]
     },
     "execution_count": 1525,
     "metadata": {},
     "output_type": "execute_result"
    },
    {
     "data": {
      "image/png": "[encoded data removed]",
      "text/plain": [
       "<Figure size 432x288 with 1 Axes>"
      ]
     },
     "metadata": {
      "needs_background": "light"
     },
     "output_type": "display_data"
    }
   ],
   "source": [
    "df[['age','thalach','trestbps','chol']].plot(legend = True)"
   ]
  },
  {
   "cell_type": "code",
   "execution_count": 1526,
   "metadata": {},
   "outputs": [],
   "source": [
    "from sklearn.model_selection import train_test_split\n",
    "x = df.iloc[:,:13].values\n",
    "y = df.iloc[:,13].values\n",
    "x_train, x_test, y_train, y_test = train_test_split (x,y, test_size=0.2)\n",
    "#from sklearn.decomposition import PCA \n",
    "#pca = PCA(n_components = None)\n",
    "#x_train = pca.fit_transform(x_train)\n",
    "#x_test = pca.fit_transform(x_test)"
   ]
  },
  {
   "cell_type": "markdown",
   "metadata": {},
   "source": [
    "# Logistic Regression"
   ]
  },
  {
   "cell_type": "code",
   "execution_count": 1527,
   "metadata": {},
   "outputs": [
    {
     "data": {
      "text/plain": [
       "0.8019"
      ]
     },
     "execution_count": 1527,
     "metadata": {},
     "output_type": "execute_result"
    }
   ],
   "source": [
    "from sklearn.linear_model  import LogisticRegression\n",
    "logicmodel = LogisticRegression()\n",
    "logicmodel.fit(x_train, y_train)\n",
    "#Test Data\n",
    "y_pred = logicmodel.predict(x_test)\n",
    "from sklearn.model_selection import cross_val_score\n",
    "accuracies = cross_val_score(estimator = logicmodel, X = x_train, y = y_train, cv = 10)\n",
    "lrdfPsigma = accuracies.mean().round(4)\n",
    "stdlrdfPsigma = accuracies.std().round(4)\n",
    "lrdfPsigma"
   ]
  },
  {
   "cell_type": "markdown",
   "metadata": {},
   "source": [
    "# K-Nearest Neighbor"
   ]
  },
  {
   "cell_type": "code",
   "execution_count": 1528,
   "metadata": {},
   "outputs": [
    {
     "data": {
      "text/plain": [
       "0.8226"
      ]
     },
     "execution_count": 1528,
     "metadata": {},
     "output_type": "execute_result"
    }
   ],
   "source": [
    "from sklearn.neighbors import KNeighborsClassifier\n",
    "knn = KNeighborsClassifier(n_neighbors = 5, metric = 'minkowski', p=2)\n",
    "knn.fit(x_train,y_train)\n",
    "#Test Data\n",
    "y_pred = knn.predict(x_test)\n",
    "accuracies = cross_val_score(estimator = knn, X = x_train, y = y_train, cv = 10)\n",
    "knndfPsigma = accuracies.mean().round(4)\n",
    "stdknndfPsigma = accuracies.std().round(4)\n",
    "knndfPsigma"
   ]
  },
  {
   "cell_type": "markdown",
   "metadata": {},
   "source": [
    "# Naive Bayes"
   ]
  },
  {
   "cell_type": "code",
   "execution_count": 1529,
   "metadata": {},
   "outputs": [
    {
     "data": {
      "text/plain": [
       "0.8058"
      ]
     },
     "execution_count": 1529,
     "metadata": {},
     "output_type": "execute_result"
    }
   ],
   "source": [
    "from sklearn.naive_bayes import GaussianNB\n",
    "nb = GaussianNB()\n",
    "nb.fit(x_train,y_train)\n",
    "#Test Data\n",
    "y_pred = nb.predict(x_test)\n",
    "accuracies = cross_val_score(estimator = nb, X = x_train, y = y_train, cv = 10)\n",
    "nbdfPsigma = accuracies.mean().round(4)\n",
    "stdnbdfPsigma = accuracies.std().round(4)\n",
    "nbdfPsigma"
   ]
  },
  {
   "cell_type": "markdown",
   "metadata": {},
   "source": [
    "# Decision Tree"
   ]
  },
  {
   "cell_type": "code",
   "execution_count": 1530,
   "metadata": {},
   "outputs": [
    {
     "data": {
      "text/plain": [
       "0.7429"
      ]
     },
     "execution_count": 1530,
     "metadata": {},
     "output_type": "execute_result"
    }
   ],
   "source": [
    "from sklearn.tree import DecisionTreeClassifier\n",
    "dt = DecisionTreeClassifier(criterion = 'entropy')\n",
    "dt.fit(x_train, y_train)\n",
    "#Test Data\n",
    "y_pred = dt.predict(x_test) \n",
    "accuracies = cross_val_score(estimator = dt, X = x_train, y = y_train, cv = 10)\n",
    "dtdfPsigma = accuracies.mean().round(4)\n",
    "stddtdfPsigma = accuracies.std().round(4)\n",
    "dtdfPsigma"
   ]
  },
  {
   "cell_type": "markdown",
   "metadata": {},
   "source": [
    "# Random Forest"
   ]
  },
  {
   "cell_type": "code",
   "execution_count": 1531,
   "metadata": {},
   "outputs": [
    {
     "data": {
      "text/plain": [
       "0.8172"
      ]
     },
     "execution_count": 1531,
     "metadata": {},
     "output_type": "execute_result"
    }
   ],
   "source": [
    "from sklearn.ensemble import RandomForestClassifier\n",
    "rf = RandomForestClassifier(criterion = 'entropy')\n",
    "rf.fit(x_train, y_train)\n",
    "#Test Data\n",
    "y_pred = rf.predict(x_test)\n",
    "accuracies = cross_val_score(estimator = rf, X = x_train, y = y_train, cv = 10)\n",
    "rfdfPsigma = accuracies.mean().round(4)\n",
    "stdrfdfPsigma = accuracies.std().round(4)\n",
    "rfdfPsigma"
   ]
  },
  {
   "cell_type": "markdown",
   "metadata": {},
   "source": [
    "# Support Vector Machine"
   ]
  },
  {
   "cell_type": "markdown",
   "metadata": {},
   "source": [
    "### Linear"
   ]
  },
  {
   "cell_type": "code",
   "execution_count": 1532,
   "metadata": {},
   "outputs": [
    {
     "data": {
      "text/plain": [
       "0.8183"
      ]
     },
     "execution_count": 1532,
     "metadata": {},
     "output_type": "execute_result"
    }
   ],
   "source": [
    "from sklearn.svm import SVC\n",
    "sv = SVC (kernel = 'linear')\n",
    "# types of kernels are linear, sigmoid, Radial Basis Function(rbf), Polynomial\n",
    "sv.fit(x_train, y_train)\n",
    "accuracies = cross_val_score(estimator = sv, X = x_train, y = y_train, cv = 10)\n",
    "svmdfPsigmalin = accuracies.mean().round(4)\n",
    "stdsvmdfPsigmalin = accuracies.std().round(4)\n",
    "svmdfPsigmalin"
   ]
  },
  {
   "cell_type": "markdown",
   "metadata": {},
   "source": [
    "### Sigmoid"
   ]
  },
  {
   "cell_type": "code",
   "execution_count": 1533,
   "metadata": {},
   "outputs": [
    {
     "data": {
      "text/plain": [
       "0.7974"
      ]
     },
     "execution_count": 1533,
     "metadata": {},
     "output_type": "execute_result"
    }
   ],
   "source": [
    "sv = SVC (kernel = 'sigmoid')\n",
    "# types of kernels are linear, sigmoid, Radial Basis Function(rbf), Polynomial\n",
    "sv.fit(x_train, y_train)\n",
    "accuracies = cross_val_score(estimator = sv, X = x_train, y = y_train, cv = 10)\n",
    "svmdfPsigmasig = accuracies.mean().round(4)\n",
    "stdsvmdfPsigmasig = accuracies.std().round(4)\n",
    "svmdfPsigmasig"
   ]
  },
  {
   "cell_type": "markdown",
   "metadata": {},
   "source": [
    "### RBF"
   ]
  },
  {
   "cell_type": "code",
   "execution_count": 1534,
   "metadata": {},
   "outputs": [
    {
     "data": {
      "text/plain": [
       "0.8306"
      ]
     },
     "execution_count": 1534,
     "metadata": {},
     "output_type": "execute_result"
    }
   ],
   "source": [
    "sv = SVC (kernel = 'rbf')\n",
    "# types of kernels are linear, sigmoid, Radial Basis Function(rbf), Polynomial\n",
    "sv.fit(x_train, y_train)\n",
    "accuracies = cross_val_score(estimator = sv, X = x_train, y = y_train, cv = 10)\n",
    "svmdfPsigmarbf = accuracies.mean().round(4)\n",
    "stdsvmdfPsigmarbf = accuracies.std().round(4)\n",
    "svmdfPsigmarbf"
   ]
  },
  {
   "cell_type": "markdown",
   "metadata": {},
   "source": [
    "# Accuracy Matrix"
   ]
  },
  {
   "cell_type": "code",
   "execution_count": 1535,
   "metadata": {},
   "outputs": [
    {
     "data": {
      "text/html": [
       "<div>\n",
       "<style scoped>\n",
       "    .dataframe tbody tr th:only-of-type {\n",
       "        vertical-align: middle;\n",
       "    }\n",
       "\n",
       "    .dataframe tbody tr th {\n",
       "        vertical-align: top;\n",
       "    }\n",
       "\n",
       "    .dataframe thead th {\n",
       "        text-align: right;\n",
       "    }\n",
       "</style>\n",
       "<table border=\"1\" class=\"dataframe\">\n",
       "  <thead>\n",
       "    <tr style=\"text-align: right;\">\n",
       "      <th></th>\n",
       "      <th>Algorithms</th>\n",
       "      <th>Normalized_with_Clusters</th>\n",
       "      <th>std1</th>\n",
       "      <th>Normalized_Data</th>\n",
       "      <th>std2</th>\n",
       "      <th>Actual_Data</th>\n",
       "      <th>std3</th>\n",
       "      <th>Psigma_scaling</th>\n",
       "      <th>std4</th>\n",
       "    </tr>\n",
       "  </thead>\n",
       "  <tbody>\n",
       "    <tr>\n",
       "      <th>0</th>\n",
       "      <td>Logistic Regression</td>\n",
       "      <td>0.8282</td>\n",
       "      <td>0.0729</td>\n",
       "      <td>0.8395</td>\n",
       "      <td>0.0800</td>\n",
       "      <td>0.8458</td>\n",
       "      <td>0.0807</td>\n",
       "      <td>0.8019</td>\n",
       "      <td>0.0334</td>\n",
       "    </tr>\n",
       "    <tr>\n",
       "      <th>1</th>\n",
       "      <td>K Nearest Neighbor</td>\n",
       "      <td>0.8051</td>\n",
       "      <td>0.0610</td>\n",
       "      <td>0.8440</td>\n",
       "      <td>0.0838</td>\n",
       "      <td>0.6646</td>\n",
       "      <td>0.0627</td>\n",
       "      <td>0.8226</td>\n",
       "      <td>0.0719</td>\n",
       "    </tr>\n",
       "    <tr>\n",
       "      <th>2</th>\n",
       "      <td>Naive Bayes</td>\n",
       "      <td>0.7766</td>\n",
       "      <td>0.0602</td>\n",
       "      <td>0.8429</td>\n",
       "      <td>0.0666</td>\n",
       "      <td>0.8110</td>\n",
       "      <td>0.0820</td>\n",
       "      <td>0.8058</td>\n",
       "      <td>0.0556</td>\n",
       "    </tr>\n",
       "    <tr>\n",
       "      <th>3</th>\n",
       "      <td>Decision Tree</td>\n",
       "      <td>0.7479</td>\n",
       "      <td>0.0598</td>\n",
       "      <td>0.7349</td>\n",
       "      <td>0.0545</td>\n",
       "      <td>0.7934</td>\n",
       "      <td>0.0799</td>\n",
       "      <td>0.7429</td>\n",
       "      <td>0.0724</td>\n",
       "    </tr>\n",
       "    <tr>\n",
       "      <th>4</th>\n",
       "      <td>Random Forest</td>\n",
       "      <td>0.7049</td>\n",
       "      <td>0.0882</td>\n",
       "      <td>0.7694</td>\n",
       "      <td>0.0876</td>\n",
       "      <td>0.7770</td>\n",
       "      <td>0.0931</td>\n",
       "      <td>0.8172</td>\n",
       "      <td>0.0670</td>\n",
       "    </tr>\n",
       "    <tr>\n",
       "      <th>5</th>\n",
       "      <td>SVM Linear</td>\n",
       "      <td>0.8472</td>\n",
       "      <td>0.0445</td>\n",
       "      <td>0.8470</td>\n",
       "      <td>0.0748</td>\n",
       "      <td>0.8013</td>\n",
       "      <td>0.0648</td>\n",
       "      <td>0.8183</td>\n",
       "      <td>0.0370</td>\n",
       "    </tr>\n",
       "    <tr>\n",
       "      <th>6</th>\n",
       "      <td>SVM Sigmoid</td>\n",
       "      <td>0.8480</td>\n",
       "      <td>0.0522</td>\n",
       "      <td>0.8303</td>\n",
       "      <td>0.0578</td>\n",
       "      <td>0.5413</td>\n",
       "      <td>0.0010</td>\n",
       "      <td>0.7974</td>\n",
       "      <td>0.0632</td>\n",
       "    </tr>\n",
       "    <tr>\n",
       "      <th>7</th>\n",
       "      <td>SVM RBF</td>\n",
       "      <td>0.8350</td>\n",
       "      <td>0.0571</td>\n",
       "      <td>0.8258</td>\n",
       "      <td>0.0675</td>\n",
       "      <td>0.5413</td>\n",
       "      <td>0.0187</td>\n",
       "      <td>0.8306</td>\n",
       "      <td>0.0463</td>\n",
       "    </tr>\n",
       "  </tbody>\n",
       "</table>\n",
       "</div>"
      ],
      "text/plain": [
       "            Algorithms  Normalized_with_Clusters    std1  Normalized_Data  \\\n",
       "0  Logistic Regression                    0.8282  0.0729           0.8395   \n",
       "1   K Nearest Neighbor                    0.8051  0.0610           0.8440   \n",
       "2          Naive Bayes                    0.7766  0.0602           0.8429   \n",
       "3        Decision Tree                    0.7479  0.0598           0.7349   \n",
       "4        Random Forest                    0.7049  0.0882           0.7694   \n",
       "5           SVM Linear                    0.8472  0.0445           0.8470   \n",
       "6          SVM Sigmoid                    0.8480  0.0522           0.8303   \n",
       "7              SVM RBF                    0.8350  0.0571           0.8258   \n",
       "\n",
       "     std2  Actual_Data    std3  Psigma_scaling    std4  \n",
       "0  0.0800       0.8458  0.0807          0.8019  0.0334  \n",
       "1  0.0838       0.6646  0.0627          0.8226  0.0719  \n",
       "2  0.0666       0.8110  0.0820          0.8058  0.0556  \n",
       "3  0.0545       0.7934  0.0799          0.7429  0.0724  \n",
       "4  0.0876       0.7770  0.0931          0.8172  0.0670  \n",
       "5  0.0748       0.8013  0.0648          0.8183  0.0370  \n",
       "6  0.0578       0.5413  0.0010          0.7974  0.0632  \n",
       "7  0.0675       0.5413  0.0187          0.8306  0.0463  "
      ]
     },
     "execution_count": 1535,
     "metadata": {},
     "output_type": "execute_result"
    }
   ],
   "source": [
    "Accuracy_Matrix = pd.DataFrame(['Logistic Regression',\n",
    "                                 'K Nearest Neighbor',\n",
    "                                 'Naive Bayes',\n",
    "                                 'Decision Tree',\n",
    "                                 'Random Forest',\n",
    "                                 'SVM Linear',\n",
    "                                 'SVM Sigmoid',\n",
    "                                 'SVM RBF'])\n",
    "Normalized_with_Clusters          = pd.DataFrame([lrkndf,\n",
    "                                                  knnkndf,\n",
    "                                                  nbkndf,\n",
    "                                                  dtkndf,\n",
    "                                                  rfkndf,\n",
    "                                                  svmkndflin,\n",
    "                                                  svmkndfsig,\n",
    "                                                  svmkndfrbf])\n",
    "Accuracy_Matrix['Normalized_with_Clusters'] = Normalized_with_Clusters[0]\n",
    "\n",
    "std1 =          pd.DataFrame([stdlrkndf,\n",
    "                              stdknnkndf,\n",
    "                              stdnbkndf,\n",
    "                              stddtkndf,\n",
    "                              stdrfkndf,\n",
    "                              stdsvmkndflin,\n",
    "                              stdsvmkndfsig,\n",
    "                              stdsvmkndfrbf])\n",
    "Accuracy_Matrix['std1'] = std1[0]\n",
    "\n",
    "Normalized_Data = pd.DataFrame([lrndf,\n",
    "                                knnndf,\n",
    "                                nbndf,\n",
    "                                dtndf,\n",
    "                                rfndf,\n",
    "                                svmndflin,\n",
    "                                svmndfsig,\n",
    "                                svmndfrbf])\n",
    "Accuracy_Matrix['Normalized_Data'] = Normalized_Data[0]\n",
    "\n",
    "std2 =            pd.DataFrame([stdlrndf,\n",
    "                                stdknnndf,\n",
    "                                stdnbndf,\n",
    "                                stddtndf,\n",
    "                                stdrfndf,\n",
    "                                stdsvmndflin,\n",
    "                                stdsvmndfsig,\n",
    "                                stdsvmndfrbf])\n",
    "Accuracy_Matrix['std2'] = std2[0]\n",
    "\n",
    "Actual_Data = pd.DataFrame(([lrdf,\n",
    "                             knndf,\n",
    "                             nbdf,\n",
    "                             dtdf,\n",
    "                             rfdf,\n",
    "                             svmdflin,\n",
    "                             svmdfsig,\n",
    "                             svmdfrbf]))\n",
    "Accuracy_Matrix['Actual_Data'] = Actual_Data[0]\n",
    "\n",
    "std3 =        pd.DataFrame(([stdlrdf,\n",
    "                             stdknndf,\n",
    "                             stdnbdf,\n",
    "                             stddtdf,\n",
    "                             stdrfdf,\n",
    "                             stdsvmdflin,\n",
    "                             stdsvmdfsig,\n",
    "                             stdsvmdfrbf]))\n",
    "Accuracy_Matrix['std3'] = std3[0]\n",
    "\n",
    "Psigma_scaling = pd.DataFrame([lrdfPsigma,\n",
    "                               knndfPsigma,\n",
    "                               nbdfPsigma,\n",
    "                               dtdfPsigma,\n",
    "                               rfdfPsigma,\n",
    "                               svmdfPsigmalin,\n",
    "                               svmdfPsigmasig,\n",
    "                               svmdfPsigmarbf])\n",
    "\n",
    "Accuracy_Matrix ['Psigma_scaling'] = Psigma_scaling[0]\n",
    "\n",
    "std4 =           pd.DataFrame([stdlrdfPsigma,\n",
    "                               stdknndfPsigma,\n",
    "                               stdnbdfPsigma,\n",
    "                               stddtdfPsigma,\n",
    "                               stdrfdfPsigma,\n",
    "                               stdsvmdfPsigmalin,\n",
    "                               stdsvmdfPsigmasig,\n",
    "                               stdsvmdfPsigmarbf])\n",
    "\n",
    "Accuracy_Matrix ['std4'] = std4[0]\n",
    "\n",
    "Accuracy_Matrix.rename(columns = {0:'Algorithms'},inplace = True)\n",
    "Accuracy_Matrix"
   ]
  },
  {
   "cell_type": "code",
   "execution_count": 1536,
   "metadata": {},
   "outputs": [
    {
     "data": {
      "text/html": [
       "<div>\n",
       "<style scoped>\n",
       "    .dataframe tbody tr th:only-of-type {\n",
       "        vertical-align: middle;\n",
       "    }\n",
       "\n",
       "    .dataframe tbody tr th {\n",
       "        vertical-align: top;\n",
       "    }\n",
       "\n",
       "    .dataframe thead th {\n",
       "        text-align: right;\n",
       "    }\n",
       "</style>\n",
       "<table border=\"1\" class=\"dataframe\">\n",
       "  <thead>\n",
       "    <tr style=\"text-align: right;\">\n",
       "      <th></th>\n",
       "      <th>0</th>\n",
       "    </tr>\n",
       "  </thead>\n",
       "  <tbody>\n",
       "    <tr>\n",
       "      <th>Normalized_with_Clusters</th>\n",
       "      <td>0.8480</td>\n",
       "    </tr>\n",
       "    <tr>\n",
       "      <th>Normalized_Data</th>\n",
       "      <td>0.8470</td>\n",
       "    </tr>\n",
       "    <tr>\n",
       "      <th>Actual_Data</th>\n",
       "      <td>0.8458</td>\n",
       "    </tr>\n",
       "    <tr>\n",
       "      <th>Psigma_scaling</th>\n",
       "      <td>0.8306</td>\n",
       "    </tr>\n",
       "  </tbody>\n",
       "</table>\n",
       "</div>"
      ],
      "text/plain": [
       "                               0\n",
       "Normalized_with_Clusters  0.8480\n",
       "Normalized_Data           0.8470\n",
       "Actual_Data               0.8458\n",
       "Psigma_scaling            0.8306"
      ]
     },
     "execution_count": 1536,
     "metadata": {},
     "output_type": "execute_result"
    }
   ],
   "source": [
    "pd.DataFrame(Accuracy_Matrix[['Normalized_with_Clusters','Normalized_Data','Actual_Data','Psigma_scaling']].max())"
   ]
  },
  {
   "cell_type": "code",
   "execution_count": 1537,
   "metadata": {},
   "outputs": [
    {
     "data": {
      "text/html": [
       "<div>\n",
       "<style scoped>\n",
       "    .dataframe tbody tr th:only-of-type {\n",
       "        vertical-align: middle;\n",
       "    }\n",
       "\n",
       "    .dataframe tbody tr th {\n",
       "        vertical-align: top;\n",
       "    }\n",
       "\n",
       "    .dataframe thead th {\n",
       "        text-align: right;\n",
       "    }\n",
       "</style>\n",
       "<table border=\"1\" class=\"dataframe\">\n",
       "  <thead>\n",
       "    <tr style=\"text-align: right;\">\n",
       "      <th></th>\n",
       "      <th>0</th>\n",
       "    </tr>\n",
       "  </thead>\n",
       "  <tbody>\n",
       "    <tr>\n",
       "      <th>std1</th>\n",
       "      <td>0.0445</td>\n",
       "    </tr>\n",
       "    <tr>\n",
       "      <th>std2</th>\n",
       "      <td>0.0545</td>\n",
       "    </tr>\n",
       "    <tr>\n",
       "      <th>std3</th>\n",
       "      <td>0.0010</td>\n",
       "    </tr>\n",
       "    <tr>\n",
       "      <th>std4</th>\n",
       "      <td>0.0334</td>\n",
       "    </tr>\n",
       "  </tbody>\n",
       "</table>\n",
       "</div>"
      ],
      "text/plain": [
       "           0\n",
       "std1  0.0445\n",
       "std2  0.0545\n",
       "std3  0.0010\n",
       "std4  0.0334"
      ]
     },
     "execution_count": 1537,
     "metadata": {},
     "output_type": "execute_result"
    }
   ],
   "source": [
    "pd.DataFrame(Accuracy_Matrix[['std1','std2','std3','std4']].min())"
   ]
  }
 ],
 "metadata": {
  "kernelspec": {
   "display_name": "Python 3",
   "language": "python",
   "name": "python3"
  },
  "language_info": {
   "codemirror_mode": {
    "name": "ipython",
    "version": 3
   },
   "file_extension": ".py",
   "mimetype": "text/x-python",
   "name": "python",
   "nbconvert_exporter": "python",
   "pygments_lexer": "ipython3",
   "version": "3.7.3"
  }
 },
 "nbformat": 4,
 "nbformat_minor": 2
}
